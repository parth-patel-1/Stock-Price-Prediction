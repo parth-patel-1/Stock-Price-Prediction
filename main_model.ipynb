{
 "cells": [
  {
   "cell_type": "code",
   "execution_count": 8,
   "id": "e0b5f2ae-b8bc-4bdc-8de8-45542ea20a2d",
   "metadata": {
    "scrolled": true
   },
   "outputs": [
    {
     "name": "stdout",
     "output_type": "stream",
     "text": [
      "Scraping complete. Files saved:\n",
      "- SBIN_NS.xlsx\n"
     ]
    }
   ],
   "source": [
    "from selenium import webdriver\n",
    "from selenium.webdriver.chrome.options import Options\n",
    "from bs4 import BeautifulSoup\n",
    "import pandas as pd\n",
    "import time\n",
    "import os\n",
    "\n",
    "def fetch_yahoo_history_scrape(symbol, start_epoch, end_epoch, save_prefix=\"scraped_data\"):\n",
    "    \"\"\"\n",
    "    Scrape historical stock data from Yahoo Finance using Selenium.\n",
    "\n",
    "    Parameters:\n",
    "    - symbol (str): e.g., '^NSEI', 'AAPL', 'RELIANCE.NS'\n",
    "    - start_epoch (int): Start time in Unix timestamp\n",
    "    - end_epoch (int): End time in Unix timestamp\n",
    "    - save_prefix (str): Filename prefix\n",
    "\n",
    "    Returns:\n",
    "    - df (pd.DataFrame): Parsed table data\n",
    "    \"\"\"\n",
    "\n",
    "    # Construct URL\n",
    "    base_url = \"https://finance.yahoo.com/quote/{}/history\".format(symbol)\n",
    "    params = f\"?period1={start_epoch}&period2={end_epoch}&interval=1d&filter=history&frequency=1d\"\n",
    "    full_url = base_url + params\n",
    "\n",
    "    # Set headless browser options\n",
    "    options = Options()\n",
    "    options.add_argument('--headless')\n",
    "    options.add_argument('--no-sandbox')\n",
    "    options.add_argument('--disable-gpu')\n",
    "    options.add_argument(\"--window-size=1920,1080\")\n",
    "    options.add_argument(\"start-maximized\")\n",
    "    options.add_argument(\"disable-infobars\")\n",
    "    options.add_argument(\"--disable-extensions\")\n",
    "\n",
    "    # Start Selenium\n",
    "    driver = webdriver.Chrome(options=options)\n",
    "    driver.get(full_url)\n",
    "    time.sleep(5)  # Allow JS to render\n",
    "\n",
    "    # Parse page source\n",
    "    soup = BeautifulSoup(driver.page_source, 'html.parser')\n",
    "    table = soup.find('table')\n",
    "\n",
    "    if not table:\n",
    "        driver.quit()\n",
    "        raise ValueError(\"Failed to locate data table. The page structure may have changed.\")\n",
    "\n",
    "    # Extract headers\n",
    "    headers = [th.text.strip() for th in table.find_all('th')]\n",
    "\n",
    "    # Extract rows\n",
    "    rows = []\n",
    "    for tr in table.find_all('tr')[1:]:\n",
    "        cols = [td.text.strip() for td in tr.find_all('td')]\n",
    "        if len(cols) == len(headers):  # Ensure only complete rows are added\n",
    "            rows.append(cols)\n",
    "\n",
    "    # Build DataFrame\n",
    "    df = pd.DataFrame(rows, columns=headers)\n",
    "\n",
    "    # Cleanup driver\n",
    "    driver.quit()\n",
    "\n",
    "    # Save\n",
    "    clean_symbol = symbol.replace(\"^\", \"\").replace(\".\", \"_\")\n",
    "    # csv_file = f\"{save_prefix}_{clean_symbol}.csv\"\n",
    "    xlsx_file = f\"{clean_symbol}.xlsx\"\n",
    "    # df.to_csv(csv_file, index=False)\n",
    "    df.to_excel(xlsx_file, index=False)\n",
    "\n",
    "    print(f\"Scraping complete. Files saved:\\n- {xlsx_file}\")\n",
    "    return df\n",
    "\n",
    "\n",
    "# NSEI (Nifty 50), from Oct 2007 to May 2025 (timestamps)\n",
    "start_ts = 1190000700   # ~Oct 2007\n",
    "end_ts = 1746202453     # ~May 2025\n",
    "\n",
    "sym=\"SBIN.NS\"\n",
    "df = fetch_yahoo_history_scrape(sym, start_ts, end_ts)\n"
   ]
  },
  {
   "cell_type": "code",
   "execution_count": 9,
   "id": "d3931a5a-6f9c-48a6-ab44-9e42f1cbb04f",
   "metadata": {
    "id": "d3931a5a-6f9c-48a6-ab44-9e42f1cbb04f",
    "scrolled": true
   },
   "outputs": [],
   "source": [
    "import math\n",
    "import numpy as np\n",
    "import pandas as pd\n",
    "import matplotlib.pyplot as plt\n",
    "import tensorflow as tf\n",
    "from sklearn.metrics import mean_squared_error, mean_absolute_error\n",
    "import warnings\n",
    "warnings.filterwarnings('ignore')"
   ]
  },
  {
   "cell_type": "code",
   "execution_count": 10,
   "id": "bada5c40-675d-414c-a4bf-18dc44583c05",
   "metadata": {
    "id": "bada5c40-675d-414c-a4bf-18dc44583c05"
   },
   "outputs": [],
   "source": [
    "# AAPL = pd.read_excel(\"AAPL.xlsx\")\n",
    "# TSLA = pd.read_excel(\"TSLA.xlsx\")\n",
    "# GOOG = pd.read_excel(\"GOOG.xlsx\")\n",
    "# MSFT = pd.read_excel(\"MSFT.xlsx\")\n",
    "# AMZN = pd.read_excel(\"AMZN.xlsx\")\n",
    "# Bajaj_F = pd.read_excel(\"BAJFINANCE_NS.xlsx\")\n",
    "SBIN = pd.read_excel(\"SBIN_NS.xlsx\")"
   ]
  },
  {
   "cell_type": "code",
   "execution_count": 11,
   "id": "850dcdff-031c-495d-85d1-106a45b153c6",
   "metadata": {},
   "outputs": [],
   "source": [
    "TSLA=SBIN"
   ]
  },
  {
   "cell_type": "code",
   "execution_count": 12,
   "id": "49480bfb-12a2-4df4-8f0f-aa8ff25841dc",
   "metadata": {
    "id": "49480bfb-12a2-4df4-8f0f-aa8ff25841dc"
   },
   "outputs": [],
   "source": [
    "TSLA[\"Date\"] = pd.to_datetime(TSLA[\"Date\"],format=\"%b %d, %Y\")\n",
    "TSLA = TSLA.sort_values(by='Date',ascending=True)\n",
    "# AAPL=AAPL[[\"Date\",\"Open\",\"Close\"]]\n"
   ]
  },
  {
   "cell_type": "code",
   "execution_count": 13,
   "id": "99f61b59-dad9-415a-9a9d-ca5909186a1d",
   "metadata": {
    "colab": {
     "base_uri": "https://localhost:8080/",
     "height": 423
    },
    "id": "99f61b59-dad9-415a-9a9d-ca5909186a1d",
    "outputId": "9c197813-24a8-4ceb-8b1b-6f20d0cf74a4"
   },
   "outputs": [
    {
     "data": {
      "text/html": [
       "<div>\n",
       "<style scoped>\n",
       "    .dataframe tbody tr th:only-of-type {\n",
       "        vertical-align: middle;\n",
       "    }\n",
       "\n",
       "    .dataframe tbody tr th {\n",
       "        vertical-align: top;\n",
       "    }\n",
       "\n",
       "    .dataframe thead th {\n",
       "        text-align: right;\n",
       "    }\n",
       "</style>\n",
       "<table border=\"1\" class=\"dataframe\">\n",
       "  <thead>\n",
       "    <tr style=\"text-align: right;\">\n",
       "      <th></th>\n",
       "      <th>Date</th>\n",
       "      <th>Open</th>\n",
       "      <th>High</th>\n",
       "      <th>Low</th>\n",
       "      <th>Close    Close price adjusted for splits.</th>\n",
       "      <th>Adj Close    Adjusted close price adjusted for splits and dividend and/or capital gain distributions.</th>\n",
       "      <th>Volume</th>\n",
       "    </tr>\n",
       "  </thead>\n",
       "  <tbody>\n",
       "    <tr>\n",
       "      <th>4342</th>\n",
       "      <td>2007-09-17</td>\n",
       "      <td>154.27</td>\n",
       "      <td>158.04</td>\n",
       "      <td>154.27</td>\n",
       "      <td>155.27</td>\n",
       "      <td>126.48</td>\n",
       "      <td>8,372,077</td>\n",
       "    </tr>\n",
       "    <tr>\n",
       "      <th>4341</th>\n",
       "      <td>2007-09-18</td>\n",
       "      <td>157.57</td>\n",
       "      <td>160.67</td>\n",
       "      <td>154.45</td>\n",
       "      <td>159.92</td>\n",
       "      <td>130.27</td>\n",
       "      <td>17,483,906</td>\n",
       "    </tr>\n",
       "    <tr>\n",
       "      <th>4340</th>\n",
       "      <td>2007-09-19</td>\n",
       "      <td>163.70</td>\n",
       "      <td>167.47</td>\n",
       "      <td>163.70</td>\n",
       "      <td>166.97</td>\n",
       "      <td>136.02</td>\n",
       "      <td>19,620,191</td>\n",
       "    </tr>\n",
       "    <tr>\n",
       "      <th>4339</th>\n",
       "      <td>2007-09-20</td>\n",
       "      <td>169.72</td>\n",
       "      <td>169.72</td>\n",
       "      <td>165.32</td>\n",
       "      <td>166.02</td>\n",
       "      <td>135.24</td>\n",
       "      <td>10,514,542</td>\n",
       "    </tr>\n",
       "    <tr>\n",
       "      <th>4338</th>\n",
       "      <td>2007-09-21</td>\n",
       "      <td>165.97</td>\n",
       "      <td>173.60</td>\n",
       "      <td>165.40</td>\n",
       "      <td>170.52</td>\n",
       "      <td>138.91</td>\n",
       "      <td>10,646,092</td>\n",
       "    </tr>\n",
       "    <tr>\n",
       "      <th>...</th>\n",
       "      <td>...</td>\n",
       "      <td>...</td>\n",
       "      <td>...</td>\n",
       "      <td>...</td>\n",
       "      <td>...</td>\n",
       "      <td>...</td>\n",
       "      <td>...</td>\n",
       "    </tr>\n",
       "    <tr>\n",
       "      <th>4</th>\n",
       "      <td>2025-04-25</td>\n",
       "      <td>815.00</td>\n",
       "      <td>819.00</td>\n",
       "      <td>787.00</td>\n",
       "      <td>798.65</td>\n",
       "      <td>798.65</td>\n",
       "      <td>13,131,038</td>\n",
       "    </tr>\n",
       "    <tr>\n",
       "      <th>3</th>\n",
       "      <td>2025-04-28</td>\n",
       "      <td>798.65</td>\n",
       "      <td>822.80</td>\n",
       "      <td>797.40</td>\n",
       "      <td>817.35</td>\n",
       "      <td>817.35</td>\n",
       "      <td>11,317,611</td>\n",
       "    </tr>\n",
       "    <tr>\n",
       "      <th>2</th>\n",
       "      <td>2025-04-29</td>\n",
       "      <td>820.00</td>\n",
       "      <td>829.00</td>\n",
       "      <td>809.00</td>\n",
       "      <td>812.55</td>\n",
       "      <td>812.55</td>\n",
       "      <td>11,283,059</td>\n",
       "    </tr>\n",
       "    <tr>\n",
       "      <th>1</th>\n",
       "      <td>2025-04-30</td>\n",
       "      <td>811.50</td>\n",
       "      <td>811.50</td>\n",
       "      <td>784.50</td>\n",
       "      <td>788.65</td>\n",
       "      <td>788.65</td>\n",
       "      <td>25,635,764</td>\n",
       "    </tr>\n",
       "    <tr>\n",
       "      <th>0</th>\n",
       "      <td>2025-05-02</td>\n",
       "      <td>790.35</td>\n",
       "      <td>803.40</td>\n",
       "      <td>789.00</td>\n",
       "      <td>800.00</td>\n",
       "      <td>800.00</td>\n",
       "      <td>17,196,548</td>\n",
       "    </tr>\n",
       "  </tbody>\n",
       "</table>\n",
       "<p>4343 rows × 7 columns</p>\n",
       "</div>"
      ],
      "text/plain": [
       "           Date    Open    High     Low  \\\n",
       "4342 2007-09-17  154.27  158.04  154.27   \n",
       "4341 2007-09-18  157.57  160.67  154.45   \n",
       "4340 2007-09-19  163.70  167.47  163.70   \n",
       "4339 2007-09-20  169.72  169.72  165.32   \n",
       "4338 2007-09-21  165.97  173.60  165.40   \n",
       "...         ...     ...     ...     ...   \n",
       "4    2025-04-25  815.00  819.00  787.00   \n",
       "3    2025-04-28  798.65  822.80  797.40   \n",
       "2    2025-04-29  820.00  829.00  809.00   \n",
       "1    2025-04-30  811.50  811.50  784.50   \n",
       "0    2025-05-02  790.35  803.40  789.00   \n",
       "\n",
       "      Close    Close price adjusted for splits.  \\\n",
       "4342                                     155.27   \n",
       "4341                                     159.92   \n",
       "4340                                     166.97   \n",
       "4339                                     166.02   \n",
       "4338                                     170.52   \n",
       "...                                         ...   \n",
       "4                                        798.65   \n",
       "3                                        817.35   \n",
       "2                                        812.55   \n",
       "1                                        788.65   \n",
       "0                                        800.00   \n",
       "\n",
       "      Adj Close    Adjusted close price adjusted for splits and dividend and/or capital gain distributions.  \\\n",
       "4342                                             126.48                                                       \n",
       "4341                                             130.27                                                       \n",
       "4340                                             136.02                                                       \n",
       "4339                                             135.24                                                       \n",
       "4338                                             138.91                                                       \n",
       "...                                                 ...                                                       \n",
       "4                                                798.65                                                       \n",
       "3                                                817.35                                                       \n",
       "2                                                812.55                                                       \n",
       "1                                                788.65                                                       \n",
       "0                                                800.00                                                       \n",
       "\n",
       "          Volume  \n",
       "4342   8,372,077  \n",
       "4341  17,483,906  \n",
       "4340  19,620,191  \n",
       "4339  10,514,542  \n",
       "4338  10,646,092  \n",
       "...          ...  \n",
       "4     13,131,038  \n",
       "3     11,317,611  \n",
       "2     11,283,059  \n",
       "1     25,635,764  \n",
       "0     17,196,548  \n",
       "\n",
       "[4343 rows x 7 columns]"
      ]
     },
     "execution_count": 13,
     "metadata": {},
     "output_type": "execute_result"
    }
   ],
   "source": [
    "TSLA"
   ]
  },
  {
   "cell_type": "code",
   "execution_count": 14,
   "id": "a16ba3bd-9587-4993-bdb5-14aa83040b50",
   "metadata": {
    "id": "a16ba3bd-9587-4993-bdb5-14aa83040b50"
   },
   "outputs": [],
   "source": [
    "training_cutoff_date=\"2023-11-30\"\n",
    "validation_cutoff_date='2025-03-18'\n",
    "# testing_cutoff_date='2025-03-19'\n",
    "training_data=TSLA[TSLA['Date'] < training_cutoff_date]\n",
    "validation_data=TSLA[(TSLA['Date']>=training_cutoff_date)&(TSLA[\"Date\"]<validation_cutoff_date)]\n",
    "# testing_data=AAPL[(AAPL['Date']>=validation_cutoff_date)&(AAPL[\"Date\"]<=testing_cutoff_date)]\n",
    "# testing_data"
   ]
  },
  {
   "cell_type": "code",
   "execution_count": 15,
   "id": "6820c29a-47a5-43b1-ae1c-72abb0fec417",
   "metadata": {
    "id": "6820c29a-47a5-43b1-ae1c-72abb0fec417"
   },
   "outputs": [],
   "source": [
    "training_data.index=training_data[\"Date\"]\n",
    "training_data=training_data.iloc[:,4]\n",
    "validation_data.index=validation_data[\"Date\"]\n",
    "validation_data=validation_data.iloc[:,4]\n",
    "\n",
    "\n",
    "# training_data.index=training_data[\"Date\"]\n",
    "# training_data=training_data[\"Adj Close\"]\n",
    "# validation_data.index=validation_data[\"Date\"]\n",
    "# validation_data=validation_data[\"Adj Close\"]\n",
    "\n",
    "# testing_data.index=testing_data[\"Date\"]\n",
    "# testing_data=testing_data[\"Adj Close\"]"
   ]
  },
  {
   "cell_type": "code",
   "execution_count": 16,
   "id": "8169af8d-6c2d-4fe8-90e0-4bdc57902675",
   "metadata": {
    "id": "8169af8d-6c2d-4fe8-90e0-4bdc57902675"
   },
   "outputs": [],
   "source": [
    "from sklearn.preprocessing import MinMaxScaler\n",
    "import joblib\n",
    "# sym=\"BAJFINANCE.NS\"\n",
    "\n",
    "min_max = MinMaxScaler(feature_range=(0, 1))\n",
    "training_data = training_data.replace({',': ''}, regex=True).astype(float)\n",
    "validation_data = validation_data.replace({',': ''}, regex=True).astype(float)\n",
    "train_scaled = min_max.fit_transform(training_data.values.reshape(-1, 1))\n",
    "joblib.dump(min_max, f'scalers/{sym}_scaler.save')\n",
    "val_scaled = min_max.transform(validation_data.values.reshape(-1, 1))\n",
    "# test_scaled= min_max.transform(testing_data.values.reshape(-1, 1))\n",
    "\n"
   ]
  },
  {
   "cell_type": "code",
   "execution_count": 17,
   "id": "8745b79d-0b3e-459d-a602-a3f8f150c3e9",
   "metadata": {
    "colab": {
     "base_uri": "https://localhost:8080/"
    },
    "id": "8745b79d-0b3e-459d-a602-a3f8f150c3e9",
    "outputId": "cd546944-8eed-4222-f8cf-67a011545beb"
   },
   "outputs": [
    {
     "data": {
      "text/plain": [
       "(320, 1)"
      ]
     },
     "execution_count": 17,
     "metadata": {},
     "output_type": "execute_result"
    }
   ],
   "source": [
    "val_scaled.shape"
   ]
  },
  {
   "cell_type": "code",
   "execution_count": 18,
   "id": "e2eef04c-92bf-4794-9a8a-3af3e52274af",
   "metadata": {
    "id": "e2eef04c-92bf-4794-9a8a-3af3e52274af"
   },
   "outputs": [],
   "source": [
    "time_steps = 10\n",
    "\n",
    "x_train=[]\n",
    "y_train=[]\n",
    "x_val=[]\n",
    "y_val=[]\n",
    "# x_test=[]\n",
    "# y_test=[]\n",
    "for i in range(time_steps, train_scaled.shape[0]):\n",
    "    x_train.append(train_scaled[i-time_steps : i])\n",
    "    y_train.append(train_scaled[i, 0])\n",
    "for i in range(time_steps, val_scaled.shape[0]):\n",
    "    x_val.append(val_scaled[i-time_steps : i])\n",
    "    y_val.append(val_scaled[i, 0])\n",
    "# for i in range(time_steps, test_scaled.shape[0]):\n",
    "#     x_test.append(test_scaled[i-time_steps : i])\n",
    "#     y_test.append(test_scaled[i, 0])\n",
    "\n",
    "x_test=x_val[160:]\n",
    "x_val=x_val[:160]\n",
    "y_test=y_val[160:]\n",
    "y_val=y_val[:160]\n",
    "\n",
    "\n"
   ]
  },
  {
   "cell_type": "code",
   "execution_count": 19,
   "id": "b420d0e2-0954-42cf-9a68-9176f9b06603",
   "metadata": {
    "colab": {
     "base_uri": "https://localhost:8080/",
     "height": 275
    },
    "id": "b420d0e2-0954-42cf-9a68-9176f9b06603",
    "outputId": "bfb12935-dc2e-4c2f-9af3-218caf1d9cf8"
   },
   "outputs": [
    {
     "data": {
      "text/plain": [
       "<matplotlib.legend.Legend at 0x73b0d67dd370>"
      ]
     },
     "execution_count": 19,
     "metadata": {},
     "output_type": "execute_result"
    },
    {
     "data": {
      "image/png": "[encoded data removed]",
      "text/plain": [
       "<Figure size 2000x500 with 1 Axes>"
      ]
     },
     "metadata": {},
     "output_type": "display_data"
    }
   ],
   "source": [
    "plt.figure(figsize=(20, 5))\n",
    "plt.plot(training_data.index, training_data, label = 'Training')\n",
    "plt.plot(validation_data.index[:160], validation_data[:160],label = 'Validation')\n",
    "plt.plot(validation_data.index[160:], validation_data[160:],label = 'Testing')\n",
    "# plt.plot(AAPL['Date'][AAPL['Date'] >= training_cutoff_date][:-8],AAPL_prediction.reshape(-1), label = 'Predictions')\n",
    "plt.xlabel('Time')\n",
    "plt.ylabel('Closing Price')\n",
    "plt.legend(loc = 'best')"
   ]
  },
  {
   "cell_type": "code",
   "execution_count": 20,
   "id": "4d5f9f58-2d65-40eb-a019-8112a55c11df",
   "metadata": {
    "id": "4d5f9f58-2d65-40eb-a019-8112a55c11df"
   },
   "outputs": [],
   "source": [
    "import numpy as np\n",
    "x_train=np.array(x_train)\n",
    "y_train=np.array(y_train)\n",
    "x_val=np.array(x_val)\n",
    "y_val=np.array(y_val)\n",
    "x_test=np.array(x_test)\n",
    "y_test=np.array(y_test)"
   ]
  },
  {
   "cell_type": "code",
   "execution_count": 21,
   "id": "ef59236c-3b79-48ac-a1ff-830b5cf274ef",
   "metadata": {
    "id": "ef59236c-3b79-48ac-a1ff-830b5cf274ef"
   },
   "outputs": [],
   "source": [
    "import tensorflow as tf\n",
    "from tensorflow.keras.models import Model\n",
    "from tensorflow.keras.layers import Layer, Input, LSTM, Dense, Dropout, LayerNormalization\n",
    "from tensorflow.keras.layers import Multiply, Softmax\n",
    "\n",
    "def model(x_train):\n",
    "  model = tf.keras.models.Sequential([\n",
    "                                      tf.keras.layers.LSTM(200, input_shape = (x_train.shape[1], 1), activation = tf.nn.leaky_relu, return_sequences = True),\n",
    "                                      tf.keras.layers.LSTM(200, activation = tf.nn.leaky_relu),\n",
    "                                      tf.keras.layers.Dense(200, activation = tf.nn.leaky_relu),\n",
    "                                      tf.keras.layers.Dense(100, activation = tf.nn.leaky_relu),\n",
    "                                      tf.keras.layers.Dense(50, activation = tf.nn.leaky_relu),\n",
    "                                      tf.keras.layers.Dense(1, activation = tf.nn.leaky_relu)\n",
    "                                      ])\n",
    "  return model\n",
    "\n",
    "\n"
   ]
  },
  {
   "cell_type": "code",
   "execution_count": 22,
   "id": "b68e629a-06c9-4b3e-acfe-2e366f4f1fdb",
   "metadata": {
    "id": "b68e629a-06c9-4b3e-acfe-2e366f4f1fdb"
   },
   "outputs": [
    {
     "name": "stderr",
     "output_type": "stream",
     "text": [
      "W0000 00:00:1746208382.664349  209659 gpu_device.cc:2341] Cannot dlopen some GPU libraries. Please make sure the missing libraries mentioned above are installed properly if you would like to use GPU. Follow the guide at https://www.tensorflow.org/install/gpu for how to download and setup the required libraries for your platform.\n",
      "Skipping registering GPU devices...\n"
     ]
    }
   ],
   "source": [
    "model=model(x_train)"
   ]
  },
  {
   "cell_type": "code",
   "execution_count": 23,
   "id": "bmKVDwFQK7zn",
   "metadata": {
    "colab": {
     "base_uri": "https://localhost:8080/",
     "height": 350
    },
    "id": "bmKVDwFQK7zn",
    "outputId": "fb30bc72-f2c6-4ac0-9911-aa9772f50c45"
   },
   "outputs": [
    {
     "data": {
      "text/html": [
       "<pre style=\"white-space:pre;overflow-x:auto;line-height:normal;font-family:Menlo,'DejaVu Sans Mono',consolas,'Courier New',monospace\"><span style=\"font-weight: bold\">Model: \"sequential\"</span>\n",
       "</pre>\n"
      ],
      "text/plain": [
       "\u001b[1mModel: \"sequential\"\u001b[0m\n"
      ]
     },
     "metadata": {},
     "output_type": "display_data"
    },
    {
     "data": {
      "text/html": [
       "<pre style=\"white-space:pre;overflow-x:auto;line-height:normal;font-family:Menlo,'DejaVu Sans Mono',consolas,'Courier New',monospace\">┏━━━━━━━━━━━━━━━━━━━━━━━━━━━━━━━━━┳━━━━━━━━━━━━━━━━━━━━━━━━┳━━━━━━━━━━━━━━━┓\n",
       "┃<span style=\"font-weight: bold\"> Layer (type)                    </span>┃<span style=\"font-weight: bold\"> Output Shape           </span>┃<span style=\"font-weight: bold\">       Param # </span>┃\n",
       "┡━━━━━━━━━━━━━━━━━━━━━━━━━━━━━━━━━╇━━━━━━━━━━━━━━━━━━━━━━━━╇━━━━━━━━━━━━━━━┩\n",
       "│ lstm (<span style=\"color: #0087ff; text-decoration-color: #0087ff\">LSTM</span>)                     │ (<span style=\"color: #00d7ff; text-decoration-color: #00d7ff\">None</span>, <span style=\"color: #00af00; text-decoration-color: #00af00\">10</span>, <span style=\"color: #00af00; text-decoration-color: #00af00\">200</span>)        │       <span style=\"color: #00af00; text-decoration-color: #00af00\">161,600</span> │\n",
       "├─────────────────────────────────┼────────────────────────┼───────────────┤\n",
       "│ lstm_1 (<span style=\"color: #0087ff; text-decoration-color: #0087ff\">LSTM</span>)                   │ (<span style=\"color: #00d7ff; text-decoration-color: #00d7ff\">None</span>, <span style=\"color: #00af00; text-decoration-color: #00af00\">200</span>)            │       <span style=\"color: #00af00; text-decoration-color: #00af00\">320,800</span> │\n",
       "├─────────────────────────────────┼────────────────────────┼───────────────┤\n",
       "│ dense (<span style=\"color: #0087ff; text-decoration-color: #0087ff\">Dense</span>)                   │ (<span style=\"color: #00d7ff; text-decoration-color: #00d7ff\">None</span>, <span style=\"color: #00af00; text-decoration-color: #00af00\">200</span>)            │        <span style=\"color: #00af00; text-decoration-color: #00af00\">40,200</span> │\n",
       "├─────────────────────────────────┼────────────────────────┼───────────────┤\n",
       "│ dense_1 (<span style=\"color: #0087ff; text-decoration-color: #0087ff\">Dense</span>)                 │ (<span style=\"color: #00d7ff; text-decoration-color: #00d7ff\">None</span>, <span style=\"color: #00af00; text-decoration-color: #00af00\">100</span>)            │        <span style=\"color: #00af00; text-decoration-color: #00af00\">20,100</span> │\n",
       "├─────────────────────────────────┼────────────────────────┼───────────────┤\n",
       "│ dense_2 (<span style=\"color: #0087ff; text-decoration-color: #0087ff\">Dense</span>)                 │ (<span style=\"color: #00d7ff; text-decoration-color: #00d7ff\">None</span>, <span style=\"color: #00af00; text-decoration-color: #00af00\">50</span>)             │         <span style=\"color: #00af00; text-decoration-color: #00af00\">5,050</span> │\n",
       "├─────────────────────────────────┼────────────────────────┼───────────────┤\n",
       "│ dense_3 (<span style=\"color: #0087ff; text-decoration-color: #0087ff\">Dense</span>)                 │ (<span style=\"color: #00d7ff; text-decoration-color: #00d7ff\">None</span>, <span style=\"color: #00af00; text-decoration-color: #00af00\">1</span>)              │            <span style=\"color: #00af00; text-decoration-color: #00af00\">51</span> │\n",
       "└─────────────────────────────────┴────────────────────────┴───────────────┘\n",
       "</pre>\n"
      ],
      "text/plain": [
       "┏━━━━━━━━━━━━━━━━━━━━━━━━━━━━━━━━━┳━━━━━━━━━━━━━━━━━━━━━━━━┳━━━━━━━━━━━━━━━┓\n",
       "┃\u001b[1m \u001b[0m\u001b[1mLayer (type)                   \u001b[0m\u001b[1m \u001b[0m┃\u001b[1m \u001b[0m\u001b[1mOutput Shape          \u001b[0m\u001b[1m \u001b[0m┃\u001b[1m \u001b[0m\u001b[1m      Param #\u001b[0m\u001b[1m \u001b[0m┃\n",
       "┡━━━━━━━━━━━━━━━━━━━━━━━━━━━━━━━━━╇━━━━━━━━━━━━━━━━━━━━━━━━╇━━━━━━━━━━━━━━━┩\n",
       "│ lstm (\u001b[38;5;33mLSTM\u001b[0m)                     │ (\u001b[38;5;45mNone\u001b[0m, \u001b[38;5;34m10\u001b[0m, \u001b[38;5;34m200\u001b[0m)        │       \u001b[38;5;34m161,600\u001b[0m │\n",
       "├─────────────────────────────────┼────────────────────────┼───────────────┤\n",
       "│ lstm_1 (\u001b[38;5;33mLSTM\u001b[0m)                   │ (\u001b[38;5;45mNone\u001b[0m, \u001b[38;5;34m200\u001b[0m)            │       \u001b[38;5;34m320,800\u001b[0m │\n",
       "├─────────────────────────────────┼────────────────────────┼───────────────┤\n",
       "│ dense (\u001b[38;5;33mDense\u001b[0m)                   │ (\u001b[38;5;45mNone\u001b[0m, \u001b[38;5;34m200\u001b[0m)            │        \u001b[38;5;34m40,200\u001b[0m │\n",
       "├─────────────────────────────────┼────────────────────────┼───────────────┤\n",
       "│ dense_1 (\u001b[38;5;33mDense\u001b[0m)                 │ (\u001b[38;5;45mNone\u001b[0m, \u001b[38;5;34m100\u001b[0m)            │        \u001b[38;5;34m20,100\u001b[0m │\n",
       "├─────────────────────────────────┼────────────────────────┼───────────────┤\n",
       "│ dense_2 (\u001b[38;5;33mDense\u001b[0m)                 │ (\u001b[38;5;45mNone\u001b[0m, \u001b[38;5;34m50\u001b[0m)             │         \u001b[38;5;34m5,050\u001b[0m │\n",
       "├─────────────────────────────────┼────────────────────────┼───────────────┤\n",
       "│ dense_3 (\u001b[38;5;33mDense\u001b[0m)                 │ (\u001b[38;5;45mNone\u001b[0m, \u001b[38;5;34m1\u001b[0m)              │            \u001b[38;5;34m51\u001b[0m │\n",
       "└─────────────────────────────────┴────────────────────────┴───────────────┘\n"
      ]
     },
     "metadata": {},
     "output_type": "display_data"
    },
    {
     "data": {
      "text/html": [
       "<pre style=\"white-space:pre;overflow-x:auto;line-height:normal;font-family:Menlo,'DejaVu Sans Mono',consolas,'Courier New',monospace\"><span style=\"font-weight: bold\"> Total params: </span><span style=\"color: #00af00; text-decoration-color: #00af00\">547,801</span> (2.09 MB)\n",
       "</pre>\n"
      ],
      "text/plain": [
       "\u001b[1m Total params: \u001b[0m\u001b[38;5;34m547,801\u001b[0m (2.09 MB)\n"
      ]
     },
     "metadata": {},
     "output_type": "display_data"
    },
    {
     "data": {
      "text/html": [
       "<pre style=\"white-space:pre;overflow-x:auto;line-height:normal;font-family:Menlo,'DejaVu Sans Mono',consolas,'Courier New',monospace\"><span style=\"font-weight: bold\"> Trainable params: </span><span style=\"color: #00af00; text-decoration-color: #00af00\">547,801</span> (2.09 MB)\n",
       "</pre>\n"
      ],
      "text/plain": [
       "\u001b[1m Trainable params: \u001b[0m\u001b[38;5;34m547,801\u001b[0m (2.09 MB)\n"
      ]
     },
     "metadata": {},
     "output_type": "display_data"
    },
    {
     "data": {
      "text/html": [
       "<pre style=\"white-space:pre;overflow-x:auto;line-height:normal;font-family:Menlo,'DejaVu Sans Mono',consolas,'Courier New',monospace\"><span style=\"font-weight: bold\"> Non-trainable params: </span><span style=\"color: #00af00; text-decoration-color: #00af00\">0</span> (0.00 B)\n",
       "</pre>\n"
      ],
      "text/plain": [
       "\u001b[1m Non-trainable params: \u001b[0m\u001b[38;5;34m0\u001b[0m (0.00 B)\n"
      ]
     },
     "metadata": {},
     "output_type": "display_data"
    },
    {
     "name": "stdout",
     "output_type": "stream",
     "text": [
      "None\n"
     ]
    }
   ],
   "source": [
    "print(model.summary())"
   ]
  },
  {
   "cell_type": "code",
   "execution_count": 24,
   "id": "6d8757ea-20fd-4998-aa41-6247c0441a27",
   "metadata": {
    "colab": {
     "base_uri": "https://localhost:8080/",
     "height": 463
    },
    "id": "6d8757ea-20fd-4998-aa41-6247c0441a27",
    "outputId": "67a05a87-ca11-4d8b-d690-5e19b2c642b5"
   },
   "outputs": [
    {
     "data": {
      "text/plain": [
       "[<matplotlib.lines.Line2D at 0x73b07bda3f20>]"
      ]
     },
     "execution_count": 24,
     "metadata": {},
     "output_type": "execute_result"
    },
    {
     "data": {
      "image/png": "[encoded data removed]",
      "text/plain": [
       "<Figure size 640x480 with 1 Axes>"
      ]
     },
     "metadata": {},
     "output_type": "display_data"
    }
   ],
   "source": [
    "import tensorflow as tf\n",
    "import os\n",
    "import datetime\n",
    "log_dir = os.path.join(\"logs\", \"fit\", datetime.datetime.now().strftime(\"%Y%m%d-%H%M%S\"))\n",
    "tensorboard_callback = tf.keras.callbacks.TensorBoard(log_dir=log_dir, histogram_freq=1)\n",
    "def scheduler(epoch):\n",
    "\n",
    "  if epoch <= 150:\n",
    "    lrate = (10 ** -5) * (epoch / 150)\n",
    "  elif epoch <= 400:\n",
    "    initial_lrate = (10 ** -5)\n",
    "    k = 0.01\n",
    "    lrate = initial_lrate * math.exp(-k * (epoch - 150))\n",
    "  else:\n",
    "    lrate = (10 ** -6)\n",
    "\n",
    "  return lrate\n",
    "callback = tf.keras.callbacks.LearningRateScheduler(scheduler)\n",
    "epochs = [i for i in range(1, 1001, 1)]\n",
    "lrate = [scheduler(i) for i in range(1,1001, 1)]\n",
    "plt.plot(epochs, lrate)"
   ]
  },
  {
   "cell_type": "code",
   "execution_count": 25,
   "id": "1be6affa-7acf-4096-9fa8-c28c224319b4",
   "metadata": {
    "id": "1be6affa-7acf-4096-9fa8-c28c224319b4"
   },
   "outputs": [],
   "source": [
    "model.compile(optimizer='adam', loss='mean_squared_error', metrics=[tf.keras.metrics.MeanSquaredError(name=\"MSE\")])"
   ]
  },
  {
   "cell_type": "code",
   "execution_count": 26,
   "id": "ba4b07f4-a914-411c-a3f3-ea49597375fd",
   "metadata": {},
   "outputs": [
    {
     "data": {
      "text/plain": [
       "<Sequential name=sequential, built=True>"
      ]
     },
     "execution_count": 26,
     "metadata": {},
     "output_type": "execute_result"
    }
   ],
   "source": [
    "model"
   ]
  },
  {
   "cell_type": "code",
   "execution_count": null,
   "id": "ecc544d5-2e3a-425c-9954-a27e3352818c",
   "metadata": {
    "colab": {
     "base_uri": "https://localhost:8080/"
    },
    "id": "ecc544d5-2e3a-425c-9954-a27e3352818c",
    "outputId": "93430094-7129-4dc0-9a88-e66e1717ba2d",
    "scrolled": true
   },
   "outputs": [
    {
     "name": "stdout",
     "output_type": "stream",
     "text": [
      "Epoch 1/1000\n",
      "\u001b[1m125/125\u001b[0m \u001b[32m━━━━━━━━━━━━━━━━━━━━\u001b[0m\u001b[37m\u001b[0m \u001b[1m4s\u001b[0m 17ms/step - MSE: 0.1773 - loss: 0.1773 - val_MSE: 1.6225 - val_loss: 1.6225 - learning_rate: 0.0000e+00\n",
      "Epoch 2/1000\n",
      "\u001b[1m125/125\u001b[0m \u001b[32m━━━━━━━━━━━━━━━━━━━━\u001b[0m\u001b[37m\u001b[0m \u001b[1m2s\u001b[0m 17ms/step - MSE: 0.1716 - loss: 0.1716 - val_MSE: 1.6221 - val_loss: 1.6221 - learning_rate: 6.6667e-08\n",
      "Epoch 3/1000\n",
      "\u001b[1m125/125\u001b[0m \u001b[32m━━━━━━━━━━━━━━━━━━━━\u001b[0m\u001b[37m\u001b[0m \u001b[1m2s\u001b[0m 19ms/step - MSE: 0.1801 - loss: 0.1801 - val_MSE: 1.6212 - val_loss: 1.6212 - learning_rate: 1.3333e-07\n",
      "Epoch 4/1000\n",
      "\u001b[1m125/125\u001b[0m \u001b[32m━━━━━━━━━━━━━━━━━━━━\u001b[0m\u001b[37m\u001b[0m \u001b[1m2s\u001b[0m 16ms/step - MSE: 0.1800 - loss: 0.1800 - val_MSE: 1.6200 - val_loss: 1.6200 - learning_rate: 2.0000e-07\n",
      "Epoch 5/1000\n",
      "\u001b[1m125/125\u001b[0m \u001b[32m━━━━━━━━━━━━━━━━━━━━\u001b[0m\u001b[37m\u001b[0m \u001b[1m2s\u001b[0m 15ms/step - MSE: 0.1760 - loss: 0.1760 - val_MSE: 1.6183 - val_loss: 1.6183 - learning_rate: 2.6667e-07\n",
      "Epoch 6/1000\n",
      "\u001b[1m125/125\u001b[0m \u001b[32m━━━━━━━━━━━━━━━━━━━━\u001b[0m\u001b[37m\u001b[0m \u001b[1m2s\u001b[0m 18ms/step - MSE: 0.1808 - loss: 0.1808 - val_MSE: 1.6155 - val_loss: 1.6155 - learning_rate: 3.3333e-07\n",
      "Epoch 7/1000\n",
      "\u001b[1m125/125\u001b[0m \u001b[32m━━━━━━━━━━━━━━━━━━━━\u001b[0m\u001b[37m\u001b[0m \u001b[1m2s\u001b[0m 18ms/step - MSE: 0.1761 - loss: 0.1761 - val_MSE: 1.6042 - val_loss: 1.6042 - learning_rate: 4.0000e-07\n",
      "Epoch 8/1000\n",
      "\u001b[1m125/125\u001b[0m \u001b[32m━━━━━━━━━━━━━━━━━━━━\u001b[0m\u001b[37m\u001b[0m \u001b[1m2s\u001b[0m 19ms/step - MSE: 0.1692 - loss: 0.1692 - val_MSE: 1.5750 - val_loss: 1.5750 - learning_rate: 4.6667e-07\n",
      "Epoch 9/1000\n",
      "\u001b[1m125/125\u001b[0m \u001b[32m━━━━━━━━━━━━━━━━━━━━\u001b[0m\u001b[37m\u001b[0m \u001b[1m2s\u001b[0m 19ms/step - MSE: 0.1631 - loss: 0.1631 - val_MSE: 1.5513 - val_loss: 1.5513 - learning_rate: 5.3333e-07\n",
      "Epoch 10/1000\n",
      "\u001b[1m125/125\u001b[0m \u001b[32m━━━━━━━━━━━━━━━━━━━━\u001b[0m\u001b[37m\u001b[0m \u001b[1m2s\u001b[0m 18ms/step - MSE: 0.1656 - loss: 0.1656 - val_MSE: 1.5275 - val_loss: 1.5275 - learning_rate: 6.0000e-07\n",
      "Epoch 11/1000\n",
      "\u001b[1m125/125\u001b[0m \u001b[32m━━━━━━━━━━━━━━━━━━━━\u001b[0m\u001b[37m\u001b[0m \u001b[1m2s\u001b[0m 18ms/step - MSE: 0.1631 - loss: 0.1631 - val_MSE: 1.5025 - val_loss: 1.5025 - learning_rate: 6.6667e-07\n",
      "Epoch 12/1000\n",
      "\u001b[1m125/125\u001b[0m \u001b[32m━━━━━━━━━━━━━━━━━━━━\u001b[0m\u001b[37m\u001b[0m \u001b[1m2s\u001b[0m 17ms/step - MSE: 0.1615 - loss: 0.1615 - val_MSE: 1.4761 - val_loss: 1.4761 - learning_rate: 7.3333e-07\n",
      "Epoch 13/1000\n",
      "\u001b[1m125/125\u001b[0m \u001b[32m━━━━━━━━━━━━━━━━━━━━\u001b[0m\u001b[37m\u001b[0m \u001b[1m2s\u001b[0m 13ms/step - MSE: 0.1560 - loss: 0.1560 - val_MSE: 1.4452 - val_loss: 1.4452 - learning_rate: 8.0000e-07\n",
      "Epoch 14/1000\n",
      "\u001b[1m125/125\u001b[0m \u001b[32m━━━━━━━━━━━━━━━━━━━━\u001b[0m\u001b[37m\u001b[0m \u001b[1m2s\u001b[0m 17ms/step - MSE: 0.1558 - loss: 0.1558 - val_MSE: 1.4083 - val_loss: 1.4083 - learning_rate: 8.6667e-07\n",
      "Epoch 15/1000\n",
      "\u001b[1m125/125\u001b[0m \u001b[32m━━━━━━━━━━━━━━━━━━━━\u001b[0m\u001b[37m\u001b[0m \u001b[1m2s\u001b[0m 18ms/step - MSE: 0.1447 - loss: 0.1447 - val_MSE: 1.3688 - val_loss: 1.3688 - learning_rate: 9.3333e-07\n",
      "Epoch 16/1000\n",
      "\u001b[1m125/125\u001b[0m \u001b[32m━━━━━━━━━━━━━━━━━━━━\u001b[0m\u001b[37m\u001b[0m \u001b[1m2s\u001b[0m 18ms/step - MSE: 0.1402 - loss: 0.1402 - val_MSE: 1.3261 - val_loss: 1.3261 - learning_rate: 1.0000e-06\n",
      "Epoch 17/1000\n",
      "\u001b[1m125/125\u001b[0m \u001b[32m━━━━━━━━━━━━━━━━━━━━\u001b[0m\u001b[37m\u001b[0m \u001b[1m2s\u001b[0m 18ms/step - MSE: 0.1369 - loss: 0.1369 - val_MSE: 1.2792 - val_loss: 1.2792 - learning_rate: 1.0667e-06\n",
      "Epoch 18/1000\n",
      "\u001b[1m125/125\u001b[0m \u001b[32m━━━━━━━━━━━━━━━━━━━━\u001b[0m\u001b[37m\u001b[0m \u001b[1m2s\u001b[0m 18ms/step - MSE: 0.1298 - loss: 0.1298 - val_MSE: 1.2249 - val_loss: 1.2249 - learning_rate: 1.1333e-06\n",
      "Epoch 19/1000\n",
      "\u001b[1m125/125\u001b[0m \u001b[32m━━━━━━━━━━━━━━━━━━━━\u001b[0m\u001b[37m\u001b[0m \u001b[1m2s\u001b[0m 18ms/step - MSE: 0.1199 - loss: 0.1199 - val_MSE: 1.1583 - val_loss: 1.1583 - learning_rate: 1.2000e-06\n",
      "Epoch 20/1000\n",
      "\u001b[1m125/125\u001b[0m \u001b[32m━━━━━━━━━━━━━━━━━━━━\u001b[0m\u001b[37m\u001b[0m \u001b[1m2s\u001b[0m 19ms/step - MSE: 0.1087 - loss: 0.1087 - val_MSE: 1.0798 - val_loss: 1.0798 - learning_rate: 1.2667e-06\n",
      "Epoch 21/1000\n",
      "\u001b[1m125/125\u001b[0m \u001b[32m━━━━━━━━━━━━━━━━━━━━\u001b[0m\u001b[37m\u001b[0m \u001b[1m2s\u001b[0m 17ms/step - MSE: 0.0980 - loss: 0.0980 - val_MSE: 0.9922 - val_loss: 0.9922 - learning_rate: 1.3333e-06\n",
      "Epoch 22/1000\n",
      "\u001b[1m125/125\u001b[0m \u001b[32m━━━━━━━━━━━━━━━━━━━━\u001b[0m\u001b[37m\u001b[0m \u001b[1m2s\u001b[0m 16ms/step - MSE: 0.0890 - loss: 0.0890 - val_MSE: 0.8913 - val_loss: 0.8913 - learning_rate: 1.4000e-06\n",
      "Epoch 23/1000\n",
      "\u001b[1m125/125\u001b[0m \u001b[32m━━━━━━━━━━━━━━━━━━━━\u001b[0m\u001b[37m\u001b[0m \u001b[1m2s\u001b[0m 16ms/step - MSE: 0.0763 - loss: 0.0763 - val_MSE: 0.7798 - val_loss: 0.7798 - learning_rate: 1.4667e-06\n",
      "Epoch 24/1000\n",
      "\u001b[1m125/125\u001b[0m \u001b[32m━━━━━━━━━━━━━━━━━━━━\u001b[0m\u001b[37m\u001b[0m \u001b[1m2s\u001b[0m 17ms/step - MSE: 0.0641 - loss: 0.0641 - val_MSE: 0.6525 - val_loss: 0.6525 - learning_rate: 1.5333e-06\n",
      "Epoch 25/1000\n",
      "\u001b[1m125/125\u001b[0m \u001b[32m━━━━━━━━━━━━━━━━━━━━\u001b[0m\u001b[37m\u001b[0m \u001b[1m2s\u001b[0m 17ms/step - MSE: 0.0488 - loss: 0.0488 - val_MSE: 0.5223 - val_loss: 0.5223 - learning_rate: 1.6000e-06\n",
      "Epoch 26/1000\n",
      "\u001b[1m125/125\u001b[0m \u001b[32m━━━━━━━━━━━━━━━━━━━━\u001b[0m\u001b[37m\u001b[0m \u001b[1m2s\u001b[0m 16ms/step - MSE: 0.0378 - loss: 0.0378 - val_MSE: 0.3930 - val_loss: 0.3930 - learning_rate: 1.6667e-06\n",
      "Epoch 27/1000\n",
      "\u001b[1m125/125\u001b[0m \u001b[32m━━━━━━━━━━━━━━━━━━━━\u001b[0m\u001b[37m\u001b[0m \u001b[1m2s\u001b[0m 17ms/step - MSE: 0.0259 - loss: 0.0259 - val_MSE: 0.2743 - val_loss: 0.2743 - learning_rate: 1.7333e-06\n",
      "Epoch 28/1000\n",
      "\u001b[1m125/125\u001b[0m \u001b[32m━━━━━━━━━━━━━━━━━━━━\u001b[0m\u001b[37m\u001b[0m \u001b[1m2s\u001b[0m 16ms/step - MSE: 0.0171 - loss: 0.0171 - val_MSE: 0.1777 - val_loss: 0.1777 - learning_rate: 1.8000e-06\n",
      "Epoch 29/1000\n",
      "\u001b[1m125/125\u001b[0m \u001b[32m━━━━━━━━━━━━━━━━━━━━\u001b[0m\u001b[37m\u001b[0m \u001b[1m2s\u001b[0m 16ms/step - MSE: 0.0115 - loss: 0.0115 - val_MSE: 0.1095 - val_loss: 0.1095 - learning_rate: 1.8667e-06\n",
      "Epoch 30/1000\n",
      "\u001b[1m125/125\u001b[0m \u001b[32m━━━━━━━━━━━━━━━━━━━━\u001b[0m\u001b[37m\u001b[0m \u001b[1m2s\u001b[0m 16ms/step - MSE: 0.0080 - loss: 0.0080 - val_MSE: 0.0688 - val_loss: 0.0688 - learning_rate: 1.9333e-06\n",
      "Epoch 31/1000\n",
      "\u001b[1m125/125\u001b[0m \u001b[32m━━━━━━━━━━━━━━━━━━━━\u001b[0m\u001b[37m\u001b[0m \u001b[1m2s\u001b[0m 13ms/step - MSE: 0.0062 - loss: 0.0062 - val_MSE: 0.0453 - val_loss: 0.0453 - learning_rate: 2.0000e-06\n",
      "Epoch 32/1000\n",
      "\u001b[1m125/125\u001b[0m \u001b[32m━━━━━━━━━━━━━━━━━━━━\u001b[0m\u001b[37m\u001b[0m \u001b[1m2s\u001b[0m 14ms/step - MSE: 0.0056 - loss: 0.0056 - val_MSE: 0.0330 - val_loss: 0.0330 - learning_rate: 2.0667e-06\n",
      "Epoch 33/1000\n",
      "\u001b[1m125/125\u001b[0m \u001b[32m━━━━━━━━━━━━━━━━━━━━\u001b[0m\u001b[37m\u001b[0m \u001b[1m2s\u001b[0m 14ms/step - MSE: 0.0052 - loss: 0.0052 - val_MSE: 0.0254 - val_loss: 0.0254 - learning_rate: 2.1333e-06\n",
      "Epoch 34/1000\n",
      "\u001b[1m125/125\u001b[0m \u001b[32m━━━━━━━━━━━━━━━━━━━━\u001b[0m\u001b[37m\u001b[0m \u001b[1m2s\u001b[0m 14ms/step - MSE: 0.0050 - loss: 0.0050 - val_MSE: 0.0201 - val_loss: 0.0201 - learning_rate: 2.2000e-06\n",
      "Epoch 35/1000\n",
      "\u001b[1m125/125\u001b[0m \u001b[32m━━━━━━━━━━━━━━━━━━━━\u001b[0m\u001b[37m\u001b[0m \u001b[1m2s\u001b[0m 14ms/step - MSE: 0.0044 - loss: 0.0044 - val_MSE: 0.0159 - val_loss: 0.0159 - learning_rate: 2.2667e-06\n",
      "Epoch 36/1000\n",
      "\u001b[1m125/125\u001b[0m \u001b[32m━━━━━━━━━━━━━━━━━━━━\u001b[0m\u001b[37m\u001b[0m \u001b[1m2s\u001b[0m 15ms/step - MSE: 0.0041 - loss: 0.0041 - val_MSE: 0.0124 - val_loss: 0.0124 - learning_rate: 2.3333e-06\n",
      "Epoch 37/1000\n",
      "\u001b[1m125/125\u001b[0m \u001b[32m━━━━━━━━━━━━━━━━━━━━\u001b[0m\u001b[37m\u001b[0m \u001b[1m2s\u001b[0m 14ms/step - MSE: 0.0037 - loss: 0.0037 - val_MSE: 0.0095 - val_loss: 0.0095 - learning_rate: 2.4000e-06\n",
      "Epoch 38/1000\n",
      "\u001b[1m125/125\u001b[0m \u001b[32m━━━━━━━━━━━━━━━━━━━━\u001b[0m\u001b[37m\u001b[0m \u001b[1m2s\u001b[0m 13ms/step - MSE: 0.0033 - loss: 0.0033 - val_MSE: 0.0071 - val_loss: 0.0071 - learning_rate: 2.4667e-06\n",
      "Epoch 39/1000\n",
      "\u001b[1m125/125\u001b[0m \u001b[32m━━━━━━━━━━━━━━━━━━━━\u001b[0m\u001b[37m\u001b[0m \u001b[1m2s\u001b[0m 14ms/step - MSE: 0.0028 - loss: 0.0028 - val_MSE: 0.0055 - val_loss: 0.0055 - learning_rate: 2.5333e-06\n",
      "Epoch 40/1000\n",
      "\u001b[1m125/125\u001b[0m \u001b[32m━━━━━━━━━━━━━━━━━━━━\u001b[0m\u001b[37m\u001b[0m \u001b[1m2s\u001b[0m 14ms/step - MSE: 0.0027 - loss: 0.0027 - val_MSE: 0.0047 - val_loss: 0.0047 - learning_rate: 2.6000e-06\n",
      "Epoch 41/1000\n",
      "\u001b[1m125/125\u001b[0m \u001b[32m━━━━━━━━━━━━━━━━━━━━\u001b[0m\u001b[37m\u001b[0m \u001b[1m2s\u001b[0m 14ms/step - MSE: 0.0022 - loss: 0.0022 - val_MSE: 0.0048 - val_loss: 0.0048 - learning_rate: 2.6667e-06\n",
      "Epoch 42/1000\n",
      "\u001b[1m125/125\u001b[0m \u001b[32m━━━━━━━━━━━━━━━━━━━━\u001b[0m\u001b[37m\u001b[0m \u001b[1m2s\u001b[0m 14ms/step - MSE: 0.0019 - loss: 0.0019 - val_MSE: 0.0057 - val_loss: 0.0057 - learning_rate: 2.7333e-06\n",
      "Epoch 43/1000\n",
      "\u001b[1m125/125\u001b[0m \u001b[32m━━━━━━━━━━━━━━━━━━━━\u001b[0m\u001b[37m\u001b[0m \u001b[1m2s\u001b[0m 14ms/step - MSE: 0.0017 - loss: 0.0017 - val_MSE: 0.0071 - val_loss: 0.0071 - learning_rate: 2.8000e-06\n",
      "Epoch 44/1000\n",
      "\u001b[1m125/125\u001b[0m \u001b[32m━━━━━━━━━━━━━━━━━━━━\u001b[0m\u001b[37m\u001b[0m \u001b[1m2s\u001b[0m 13ms/step - MSE: 0.0015 - loss: 0.0015 - val_MSE: 0.0094 - val_loss: 0.0094 - learning_rate: 2.8667e-06\n",
      "Epoch 45/1000\n",
      "\u001b[1m125/125\u001b[0m \u001b[32m━━━━━━━━━━━━━━━━━━━━\u001b[0m\u001b[37m\u001b[0m \u001b[1m2s\u001b[0m 14ms/step - MSE: 0.0013 - loss: 0.0013 - val_MSE: 0.0118 - val_loss: 0.0118 - learning_rate: 2.9333e-06\n",
      "Epoch 46/1000\n",
      "\u001b[1m125/125\u001b[0m \u001b[32m━━━━━━━━━━━━━━━━━━━━\u001b[0m\u001b[37m\u001b[0m \u001b[1m2s\u001b[0m 14ms/step - MSE: 0.0013 - loss: 0.0013 - val_MSE: 0.0149 - val_loss: 0.0149 - learning_rate: 3.0000e-06\n",
      "Epoch 47/1000\n",
      "\u001b[1m125/125\u001b[0m \u001b[32m━━━━━━━━━━━━━━━━━━━━\u001b[0m\u001b[37m\u001b[0m \u001b[1m2s\u001b[0m 13ms/step - MSE: 0.0011 - loss: 0.0011 - val_MSE: 0.0181 - val_loss: 0.0181 - learning_rate: 3.0667e-06\n",
      "Epoch 48/1000\n",
      "\u001b[1m125/125\u001b[0m \u001b[32m━━━━━━━━━━━━━━━━━━━━\u001b[0m\u001b[37m\u001b[0m \u001b[1m2s\u001b[0m 14ms/step - MSE: 9.6703e-04 - loss: 9.6703e-04 - val_MSE: 0.0198 - val_loss: 0.0198 - learning_rate: 3.1333e-06\n",
      "Epoch 49/1000\n",
      "\u001b[1m125/125\u001b[0m \u001b[32m━━━━━━━━━━━━━━━━━━━━\u001b[0m\u001b[37m\u001b[0m \u001b[1m2s\u001b[0m 13ms/step - MSE: 0.0010 - loss: 0.0010 - val_MSE: 0.0218 - val_loss: 0.0218 - learning_rate: 3.2000e-06\n",
      "Epoch 50/1000\n",
      "\u001b[1m125/125\u001b[0m \u001b[32m━━━━━━━━━━━━━━━━━━━━\u001b[0m\u001b[37m\u001b[0m \u001b[1m2s\u001b[0m 14ms/step - MSE: 9.3132e-04 - loss: 9.3132e-04 - val_MSE: 0.0252 - val_loss: 0.0252 - learning_rate: 3.2667e-06\n",
      "Epoch 51/1000\n",
      "\u001b[1m125/125\u001b[0m \u001b[32m━━━━━━━━━━━━━━━━━━━━\u001b[0m\u001b[37m\u001b[0m \u001b[1m2s\u001b[0m 14ms/step - MSE: 8.4983e-04 - loss: 8.4983e-04 - val_MSE: 0.0245 - val_loss: 0.0245 - learning_rate: 3.3333e-06\n",
      "Epoch 52/1000\n",
      "\u001b[1m125/125\u001b[0m \u001b[32m━━━━━━━━━━━━━━━━━━━━\u001b[0m\u001b[37m\u001b[0m \u001b[1m2s\u001b[0m 13ms/step - MSE: 8.3905e-04 - loss: 8.3905e-04 - val_MSE: 0.0251 - val_loss: 0.0251 - learning_rate: 3.4000e-06\n",
      "Epoch 53/1000\n",
      "\u001b[1m125/125\u001b[0m \u001b[32m━━━━━━━━━━━━━━━━━━━━\u001b[0m\u001b[37m\u001b[0m \u001b[1m2s\u001b[0m 14ms/step - MSE: 8.0830e-04 - loss: 8.0830e-04 - val_MSE: 0.0244 - val_loss: 0.0244 - learning_rate: 3.4667e-06\n",
      "Epoch 54/1000\n",
      "\u001b[1m125/125\u001b[0m \u001b[32m━━━━━━━━━━━━━━━━━━━━\u001b[0m\u001b[37m\u001b[0m \u001b[1m2s\u001b[0m 15ms/step - MSE: 8.1480e-04 - loss: 8.1480e-04 - val_MSE: 0.0250 - val_loss: 0.0250 - learning_rate: 3.5333e-06\n",
      "Epoch 55/1000\n",
      "\u001b[1m125/125\u001b[0m \u001b[32m━━━━━━━━━━━━━━━━━━━━\u001b[0m\u001b[37m\u001b[0m \u001b[1m2s\u001b[0m 14ms/step - MSE: 8.0881e-04 - loss: 8.0881e-04 - val_MSE: 0.0272 - val_loss: 0.0272 - learning_rate: 3.6000e-06\n",
      "Epoch 56/1000\n",
      "\u001b[1m125/125\u001b[0m \u001b[32m━━━━━━━━━━━━━━━━━━━━\u001b[0m\u001b[37m\u001b[0m \u001b[1m2s\u001b[0m 16ms/step - MSE: 7.5954e-04 - loss: 7.5954e-04 - val_MSE: 0.0245 - val_loss: 0.0245 - learning_rate: 3.6667e-06\n",
      "Epoch 57/1000\n",
      "\u001b[1m125/125\u001b[0m \u001b[32m━━━━━━━━━━━━━━━━━━━━\u001b[0m\u001b[37m\u001b[0m \u001b[1m2s\u001b[0m 15ms/step - MSE: 8.0772e-04 - loss: 8.0772e-04 - val_MSE: 0.0255 - val_loss: 0.0255 - learning_rate: 3.7333e-06\n",
      "Epoch 58/1000\n",
      "\u001b[1m125/125\u001b[0m \u001b[32m━━━━━━━━━━━━━━━━━━━━\u001b[0m\u001b[37m\u001b[0m \u001b[1m2s\u001b[0m 14ms/step - MSE: 7.6101e-04 - loss: 7.6101e-04 - val_MSE: 0.0237 - val_loss: 0.0237 - learning_rate: 3.8000e-06\n",
      "Epoch 59/1000\n",
      "\u001b[1m125/125\u001b[0m \u001b[32m━━━━━━━━━━━━━━━━━━━━\u001b[0m\u001b[37m\u001b[0m \u001b[1m2s\u001b[0m 14ms/step - MSE: 6.8293e-04 - loss: 6.8293e-04 - val_MSE: 0.0220 - val_loss: 0.0220 - learning_rate: 3.8667e-06\n",
      "Epoch 60/1000\n",
      "\u001b[1m125/125\u001b[0m \u001b[32m━━━━━━━━━━━━━━━━━━━━\u001b[0m\u001b[37m\u001b[0m \u001b[1m2s\u001b[0m 14ms/step - MSE: 7.0539e-04 - loss: 7.0539e-04 - val_MSE: 0.0214 - val_loss: 0.0214 - learning_rate: 3.9333e-06\n",
      "Epoch 61/1000\n",
      "\u001b[1m125/125\u001b[0m \u001b[32m━━━━━━━━━━━━━━━━━━━━\u001b[0m\u001b[37m\u001b[0m \u001b[1m2s\u001b[0m 14ms/step - MSE: 7.0833e-04 - loss: 7.0833e-04 - val_MSE: 0.0207 - val_loss: 0.0207 - learning_rate: 4.0000e-06\n",
      "Epoch 62/1000\n",
      "\u001b[1m125/125\u001b[0m \u001b[32m━━━━━━━━━━━━━━━━━━━━\u001b[0m\u001b[37m\u001b[0m \u001b[1m2s\u001b[0m 14ms/step - MSE: 6.8718e-04 - loss: 6.8718e-04 - val_MSE: 0.0213 - val_loss: 0.0213 - learning_rate: 4.0667e-06\n",
      "Epoch 63/1000\n",
      "\u001b[1m125/125\u001b[0m \u001b[32m━━━━━━━━━━━━━━━━━━━━\u001b[0m\u001b[37m\u001b[0m \u001b[1m2s\u001b[0m 14ms/step - MSE: 6.9262e-04 - loss: 6.9262e-04 - val_MSE: 0.0197 - val_loss: 0.0197 - learning_rate: 4.1333e-06\n",
      "Epoch 64/1000\n",
      "\u001b[1m125/125\u001b[0m \u001b[32m━━━━━━━━━━━━━━━━━━━━\u001b[0m\u001b[37m\u001b[0m \u001b[1m2s\u001b[0m 14ms/step - MSE: 7.1678e-04 - loss: 7.1678e-04 - val_MSE: 0.0181 - val_loss: 0.0181 - learning_rate: 4.2000e-06\n",
      "Epoch 65/1000\n",
      "\u001b[1m125/125\u001b[0m \u001b[32m━━━━━━━━━━━━━━━━━━━━\u001b[0m\u001b[37m\u001b[0m \u001b[1m2s\u001b[0m 14ms/step - MSE: 6.3729e-04 - loss: 6.3729e-04 - val_MSE: 0.0179 - val_loss: 0.0179 - learning_rate: 4.2667e-06\n",
      "Epoch 66/1000\n",
      "\u001b[1m125/125\u001b[0m \u001b[32m━━━━━━━━━━━━━━━━━━━━\u001b[0m\u001b[37m\u001b[0m \u001b[1m2s\u001b[0m 14ms/step - MSE: 6.4473e-04 - loss: 6.4473e-04 - val_MSE: 0.0184 - val_loss: 0.0184 - learning_rate: 4.3333e-06\n",
      "Epoch 67/1000\n",
      "\u001b[1m125/125\u001b[0m \u001b[32m━━━━━━━━━━━━━━━━━━━━\u001b[0m\u001b[37m\u001b[0m \u001b[1m2s\u001b[0m 14ms/step - MSE: 6.5139e-04 - loss: 6.5139e-04 - val_MSE: 0.0163 - val_loss: 0.0163 - learning_rate: 4.4000e-06\n",
      "Epoch 68/1000\n",
      "\u001b[1m125/125\u001b[0m \u001b[32m━━━━━━━━━━━━━━━━━━━━\u001b[0m\u001b[37m\u001b[0m \u001b[1m2s\u001b[0m 14ms/step - MSE: 6.6187e-04 - loss: 6.6187e-04 - val_MSE: 0.0142 - val_loss: 0.0142 - learning_rate: 4.4667e-06\n",
      "Epoch 69/1000\n",
      "\u001b[1m125/125\u001b[0m \u001b[32m━━━━━━━━━━━━━━━━━━━━\u001b[0m\u001b[37m\u001b[0m \u001b[1m2s\u001b[0m 14ms/step - MSE: 6.4359e-04 - loss: 6.4359e-04 - val_MSE: 0.0145 - val_loss: 0.0145 - learning_rate: 4.5333e-06\n",
      "Epoch 70/1000\n",
      "\u001b[1m125/125\u001b[0m \u001b[32m━━━━━━━━━━━━━━━━━━━━\u001b[0m\u001b[37m\u001b[0m \u001b[1m2s\u001b[0m 14ms/step - MSE: 6.5487e-04 - loss: 6.5487e-04 - val_MSE: 0.0133 - val_loss: 0.0133 - learning_rate: 4.6000e-06\n",
      "Epoch 71/1000\n",
      "\u001b[1m125/125\u001b[0m \u001b[32m━━━━━━━━━━━━━━━━━━━━\u001b[0m\u001b[37m\u001b[0m \u001b[1m2s\u001b[0m 14ms/step - MSE: 6.4304e-04 - loss: 6.4304e-04 - val_MSE: 0.0128 - val_loss: 0.0128 - learning_rate: 4.6667e-06\n",
      "Epoch 72/1000\n",
      "\u001b[1m125/125\u001b[0m \u001b[32m━━━━━━━━━━━━━━━━━━━━\u001b[0m\u001b[37m\u001b[0m \u001b[1m2s\u001b[0m 14ms/step - MSE: 6.5378e-04 - loss: 6.5378e-04 - val_MSE: 0.0111 - val_loss: 0.0111 - learning_rate: 4.7333e-06\n",
      "Epoch 73/1000\n",
      "\u001b[1m125/125\u001b[0m \u001b[32m━━━━━━━━━━━━━━━━━━━━\u001b[0m\u001b[37m\u001b[0m \u001b[1m2s\u001b[0m 14ms/step - MSE: 6.3831e-04 - loss: 6.3831e-04 - val_MSE: 0.0112 - val_loss: 0.0112 - learning_rate: 4.8000e-06\n",
      "Epoch 74/1000\n",
      "\u001b[1m125/125\u001b[0m \u001b[32m━━━━━━━━━━━━━━━━━━━━\u001b[0m\u001b[37m\u001b[0m \u001b[1m2s\u001b[0m 15ms/step - MSE: 6.5345e-04 - loss: 6.5345e-04 - val_MSE: 0.0108 - val_loss: 0.0108 - learning_rate: 4.8667e-06\n",
      "Epoch 75/1000\n",
      "\u001b[1m125/125\u001b[0m \u001b[32m━━━━━━━━━━━━━━━━━━━━\u001b[0m\u001b[37m\u001b[0m \u001b[1m2s\u001b[0m 14ms/step - MSE: 6.2987e-04 - loss: 6.2987e-04 - val_MSE: 0.0120 - val_loss: 0.0120 - learning_rate: 4.9333e-06\n",
      "Epoch 76/1000\n",
      "\u001b[1m125/125\u001b[0m \u001b[32m━━━━━━━━━━━━━━━━━━━━\u001b[0m\u001b[37m\u001b[0m \u001b[1m2s\u001b[0m 15ms/step - MSE: 5.9636e-04 - loss: 5.9636e-04 - val_MSE: 0.0109 - val_loss: 0.0109 - learning_rate: 5.0000e-06\n",
      "Epoch 77/1000\n",
      "\u001b[1m125/125\u001b[0m \u001b[32m━━━━━━━━━━━━━━━━━━━━\u001b[0m\u001b[37m\u001b[0m \u001b[1m2s\u001b[0m 14ms/step - MSE: 6.2107e-04 - loss: 6.2107e-04 - val_MSE: 0.0113 - val_loss: 0.0113 - learning_rate: 5.0667e-06\n",
      "Epoch 78/1000\n",
      "\u001b[1m125/125\u001b[0m \u001b[32m━━━━━━━━━━━━━━━━━━━━\u001b[0m\u001b[37m\u001b[0m \u001b[1m2s\u001b[0m 14ms/step - MSE: 6.1532e-04 - loss: 6.1532e-04 - val_MSE: 0.0104 - val_loss: 0.0104 - learning_rate: 5.1333e-06\n",
      "Epoch 79/1000\n",
      "\u001b[1m125/125\u001b[0m \u001b[32m━━━━━━━━━━━━━━━━━━━━\u001b[0m\u001b[37m\u001b[0m \u001b[1m2s\u001b[0m 15ms/step - MSE: 6.2798e-04 - loss: 6.2798e-04 - val_MSE: 0.0095 - val_loss: 0.0095 - learning_rate: 5.2000e-06\n",
      "Epoch 80/1000\n",
      "\u001b[1m125/125\u001b[0m \u001b[32m━━━━━━━━━━━━━━━━━━━━\u001b[0m\u001b[37m\u001b[0m \u001b[1m2s\u001b[0m 14ms/step - MSE: 6.3388e-04 - loss: 6.3388e-04 - val_MSE: 0.0100 - val_loss: 0.0100 - learning_rate: 5.2667e-06\n",
      "Epoch 81/1000\n",
      "\u001b[1m125/125\u001b[0m \u001b[32m━━━━━━━━━━━━━━━━━━━━\u001b[0m\u001b[37m\u001b[0m \u001b[1m2s\u001b[0m 14ms/step - MSE: 5.8491e-04 - loss: 5.8491e-04 - val_MSE: 0.0101 - val_loss: 0.0101 - learning_rate: 5.3333e-06\n",
      "Epoch 82/1000\n",
      "\u001b[1m125/125\u001b[0m \u001b[32m━━━━━━━━━━━━━━━━━━━━\u001b[0m\u001b[37m\u001b[0m \u001b[1m2s\u001b[0m 14ms/step - MSE: 6.2198e-04 - loss: 6.2198e-04 - val_MSE: 0.0086 - val_loss: 0.0086 - learning_rate: 5.4000e-06\n",
      "Epoch 83/1000\n",
      "\u001b[1m125/125\u001b[0m \u001b[32m━━━━━━━━━━━━━━━━━━━━\u001b[0m\u001b[37m\u001b[0m \u001b[1m2s\u001b[0m 14ms/step - MSE: 6.4270e-04 - loss: 6.4270e-04 - val_MSE: 0.0099 - val_loss: 0.0099 - learning_rate: 5.4667e-06\n",
      "Epoch 84/1000\n",
      "\u001b[1m125/125\u001b[0m \u001b[32m━━━━━━━━━━━━━━━━━━━━\u001b[0m\u001b[37m\u001b[0m \u001b[1m2s\u001b[0m 14ms/step - MSE: 6.0054e-04 - loss: 6.0054e-04 - val_MSE: 0.0079 - val_loss: 0.0079 - learning_rate: 5.5333e-06\n",
      "Epoch 85/1000\n",
      "\u001b[1m125/125\u001b[0m \u001b[32m━━━━━━━━━━━━━━━━━━━━\u001b[0m\u001b[37m\u001b[0m \u001b[1m2s\u001b[0m 14ms/step - MSE: 6.0876e-04 - loss: 6.0876e-04 - val_MSE: 0.0076 - val_loss: 0.0076 - learning_rate: 5.6000e-06\n",
      "Epoch 86/1000\n",
      "\u001b[1m125/125\u001b[0m \u001b[32m━━━━━━━━━━━━━━━━━━━━\u001b[0m\u001b[37m\u001b[0m \u001b[1m2s\u001b[0m 17ms/step - MSE: 6.1350e-04 - loss: 6.1350e-04 - val_MSE: 0.0069 - val_loss: 0.0069 - learning_rate: 5.6667e-06\n",
      "Epoch 87/1000\n",
      "\u001b[1m125/125\u001b[0m \u001b[32m━━━━━━━━━━━━━━━━━━━━\u001b[0m\u001b[37m\u001b[0m \u001b[1m2s\u001b[0m 14ms/step - MSE: 5.8395e-04 - loss: 5.8395e-04 - val_MSE: 0.0074 - val_loss: 0.0074 - learning_rate: 5.7333e-06\n",
      "Epoch 88/1000\n",
      "\u001b[1m125/125\u001b[0m \u001b[32m━━━━━━━━━━━━━━━━━━━━\u001b[0m\u001b[37m\u001b[0m \u001b[1m2s\u001b[0m 14ms/step - MSE: 5.8924e-04 - loss: 5.8924e-04 - val_MSE: 0.0074 - val_loss: 0.0074 - learning_rate: 5.8000e-06\n",
      "Epoch 89/1000\n",
      "\u001b[1m125/125\u001b[0m \u001b[32m━━━━━━━━━━━━━━━━━━━━\u001b[0m\u001b[37m\u001b[0m \u001b[1m2s\u001b[0m 14ms/step - MSE: 5.7764e-04 - loss: 5.7764e-04 - val_MSE: 0.0059 - val_loss: 0.0059 - learning_rate: 5.8667e-06\n",
      "Epoch 90/1000\n",
      "\u001b[1m125/125\u001b[0m \u001b[32m━━━━━━━━━━━━━━━━━━━━\u001b[0m\u001b[37m\u001b[0m \u001b[1m2s\u001b[0m 14ms/step - MSE: 5.7061e-04 - loss: 5.7061e-04 - val_MSE: 0.0066 - val_loss: 0.0066 - learning_rate: 5.9333e-06\n",
      "Epoch 91/1000\n",
      "\u001b[1m125/125\u001b[0m \u001b[32m━━━━━━━━━━━━━━━━━━━━\u001b[0m\u001b[37m\u001b[0m \u001b[1m2s\u001b[0m 15ms/step - MSE: 5.8468e-04 - loss: 5.8468e-04 - val_MSE: 0.0065 - val_loss: 0.0065 - learning_rate: 6.0000e-06\n",
      "Epoch 92/1000\n",
      "\u001b[1m125/125\u001b[0m \u001b[32m━━━━━━━━━━━━━━━━━━━━\u001b[0m\u001b[37m\u001b[0m \u001b[1m2s\u001b[0m 15ms/step - MSE: 6.1286e-04 - loss: 6.1286e-04 - val_MSE: 0.0056 - val_loss: 0.0056 - learning_rate: 6.0667e-06\n",
      "Epoch 93/1000\n",
      "\u001b[1m125/125\u001b[0m \u001b[32m━━━━━━━━━━━━━━━━━━━━\u001b[0m\u001b[37m\u001b[0m \u001b[1m2s\u001b[0m 15ms/step - MSE: 5.8997e-04 - loss: 5.8997e-04 - val_MSE: 0.0058 - val_loss: 0.0058 - learning_rate: 6.1333e-06\n",
      "Epoch 94/1000\n",
      "\u001b[1m125/125\u001b[0m \u001b[32m━━━━━━━━━━━━━━━━━━━━\u001b[0m\u001b[37m\u001b[0m \u001b[1m2s\u001b[0m 15ms/step - MSE: 5.7946e-04 - loss: 5.7946e-04 - val_MSE: 0.0058 - val_loss: 0.0058 - learning_rate: 6.2000e-06\n",
      "Epoch 95/1000\n",
      "\u001b[1m125/125\u001b[0m \u001b[32m━━━━━━━━━━━━━━━━━━━━\u001b[0m\u001b[37m\u001b[0m \u001b[1m2s\u001b[0m 14ms/step - MSE: 5.5319e-04 - loss: 5.5319e-04 - val_MSE: 0.0048 - val_loss: 0.0048 - learning_rate: 6.2667e-06\n",
      "Epoch 96/1000\n",
      "\u001b[1m125/125\u001b[0m \u001b[32m━━━━━━━━━━━━━━━━━━━━\u001b[0m\u001b[37m\u001b[0m \u001b[1m2s\u001b[0m 14ms/step - MSE: 5.7133e-04 - loss: 5.7133e-04 - val_MSE: 0.0052 - val_loss: 0.0052 - learning_rate: 6.3333e-06\n",
      "Epoch 97/1000\n",
      "\u001b[1m125/125\u001b[0m \u001b[32m━━━━━━━━━━━━━━━━━━━━\u001b[0m\u001b[37m\u001b[0m \u001b[1m2s\u001b[0m 14ms/step - MSE: 5.5935e-04 - loss: 5.5935e-04 - val_MSE: 0.0046 - val_loss: 0.0046 - learning_rate: 6.4000e-06\n",
      "Epoch 98/1000\n",
      "\u001b[1m125/125\u001b[0m \u001b[32m━━━━━━━━━━━━━━━━━━━━\u001b[0m\u001b[37m\u001b[0m \u001b[1m2s\u001b[0m 14ms/step - MSE: 5.7468e-04 - loss: 5.7468e-04 - val_MSE: 0.0041 - val_loss: 0.0041 - learning_rate: 6.4667e-06\n",
      "Epoch 99/1000\n",
      "\u001b[1m125/125\u001b[0m \u001b[32m━━━━━━━━━━━━━━━━━━━━\u001b[0m\u001b[37m\u001b[0m \u001b[1m2s\u001b[0m 14ms/step - MSE: 5.7324e-04 - loss: 5.7324e-04 - val_MSE: 0.0042 - val_loss: 0.0042 - learning_rate: 6.5333e-06\n",
      "Epoch 100/1000\n",
      "\u001b[1m125/125\u001b[0m \u001b[32m━━━━━━━━━━━━━━━━━━━━\u001b[0m\u001b[37m\u001b[0m \u001b[1m2s\u001b[0m 14ms/step - MSE: 5.8970e-04 - loss: 5.8970e-04 - val_MSE: 0.0051 - val_loss: 0.0051 - learning_rate: 6.6000e-06\n",
      "Epoch 101/1000\n",
      "\u001b[1m125/125\u001b[0m \u001b[32m━━━━━━━━━━━━━━━━━━━━\u001b[0m\u001b[37m\u001b[0m \u001b[1m2s\u001b[0m 14ms/step - MSE: 5.4211e-04 - loss: 5.4211e-04 - val_MSE: 0.0046 - val_loss: 0.0046 - learning_rate: 6.6667e-06\n",
      "Epoch 102/1000\n",
      "\u001b[1m125/125\u001b[0m \u001b[32m━━━━━━━━━━━━━━━━━━━━\u001b[0m\u001b[37m\u001b[0m \u001b[1m2s\u001b[0m 14ms/step - MSE: 5.2989e-04 - loss: 5.2989e-04 - val_MSE: 0.0044 - val_loss: 0.0044 - learning_rate: 6.7333e-06\n",
      "Epoch 103/1000\n",
      "\u001b[1m125/125\u001b[0m \u001b[32m━━━━━━━━━━━━━━━━━━━━\u001b[0m\u001b[37m\u001b[0m \u001b[1m2s\u001b[0m 14ms/step - MSE: 5.6271e-04 - loss: 5.6271e-04 - val_MSE: 0.0040 - val_loss: 0.0040 - learning_rate: 6.8000e-06\n",
      "Epoch 104/1000\n",
      "\u001b[1m125/125\u001b[0m \u001b[32m━━━━━━━━━━━━━━━━━━━━\u001b[0m\u001b[37m\u001b[0m \u001b[1m2s\u001b[0m 15ms/step - MSE: 5.5102e-04 - loss: 5.5102e-04 - val_MSE: 0.0045 - val_loss: 0.0045 - learning_rate: 6.8667e-06\n",
      "Epoch 105/1000\n",
      "\u001b[1m125/125\u001b[0m \u001b[32m━━━━━━━━━━━━━━━━━━━━\u001b[0m\u001b[37m\u001b[0m \u001b[1m2s\u001b[0m 14ms/step - MSE: 5.6416e-04 - loss: 5.6416e-04 - val_MSE: 0.0039 - val_loss: 0.0039 - learning_rate: 6.9333e-06\n",
      "Epoch 106/1000\n",
      "\u001b[1m125/125\u001b[0m \u001b[32m━━━━━━━━━━━━━━━━━━━━\u001b[0m\u001b[37m\u001b[0m \u001b[1m2s\u001b[0m 15ms/step - MSE: 5.5607e-04 - loss: 5.5607e-04 - val_MSE: 0.0040 - val_loss: 0.0040 - learning_rate: 7.0000e-06\n",
      "Epoch 107/1000\n",
      "\u001b[1m125/125\u001b[0m \u001b[32m━━━━━━━━━━━━━━━━━━━━\u001b[0m\u001b[37m\u001b[0m \u001b[1m2s\u001b[0m 15ms/step - MSE: 5.3326e-04 - loss: 5.3326e-04 - val_MSE: 0.0037 - val_loss: 0.0037 - learning_rate: 7.0667e-06\n",
      "Epoch 108/1000\n",
      "\u001b[1m125/125\u001b[0m \u001b[32m━━━━━━━━━━━━━━━━━━━━\u001b[0m\u001b[37m\u001b[0m \u001b[1m2s\u001b[0m 14ms/step - MSE: 5.0461e-04 - loss: 5.0461e-04 - val_MSE: 0.0033 - val_loss: 0.0033 - learning_rate: 7.1333e-06\n",
      "Epoch 109/1000\n",
      "\u001b[1m125/125\u001b[0m \u001b[32m━━━━━━━━━━━━━━━━━━━━\u001b[0m\u001b[37m\u001b[0m \u001b[1m2s\u001b[0m 15ms/step - MSE: 5.4254e-04 - loss: 5.4254e-04 - val_MSE: 0.0033 - val_loss: 0.0033 - learning_rate: 7.2000e-06\n",
      "Epoch 110/1000\n",
      "\u001b[1m125/125\u001b[0m \u001b[32m━━━━━━━━━━━━━━━━━━━━\u001b[0m\u001b[37m\u001b[0m \u001b[1m2s\u001b[0m 15ms/step - MSE: 5.1574e-04 - loss: 5.1574e-04 - val_MSE: 0.0034 - val_loss: 0.0034 - learning_rate: 7.2667e-06\n",
      "Epoch 111/1000\n",
      "\u001b[1m125/125\u001b[0m \u001b[32m━━━━━━━━━━━━━━━━━━━━\u001b[0m\u001b[37m\u001b[0m \u001b[1m2s\u001b[0m 15ms/step - MSE: 5.4960e-04 - loss: 5.4960e-04 - val_MSE: 0.0037 - val_loss: 0.0037 - learning_rate: 7.3333e-06\n",
      "Epoch 112/1000\n",
      "\u001b[1m125/125\u001b[0m \u001b[32m━━━━━━━━━━━━━━━━━━━━\u001b[0m\u001b[37m\u001b[0m \u001b[1m2s\u001b[0m 15ms/step - MSE: 5.2491e-04 - loss: 5.2491e-04 - val_MSE: 0.0040 - val_loss: 0.0040 - learning_rate: 7.4000e-06\n",
      "Epoch 113/1000\n",
      "\u001b[1m125/125\u001b[0m \u001b[32m━━━━━━━━━━━━━━━━━━━━\u001b[0m\u001b[37m\u001b[0m \u001b[1m2s\u001b[0m 14ms/step - MSE: 5.5382e-04 - loss: 5.5382e-04 - val_MSE: 0.0033 - val_loss: 0.0033 - learning_rate: 7.4667e-06\n",
      "Epoch 114/1000\n",
      "\u001b[1m125/125\u001b[0m \u001b[32m━━━━━━━━━━━━━━━━━━━━\u001b[0m\u001b[37m\u001b[0m \u001b[1m2s\u001b[0m 15ms/step - MSE: 5.1008e-04 - loss: 5.1008e-04 - val_MSE: 0.0028 - val_loss: 0.0028 - learning_rate: 7.5333e-06\n",
      "Epoch 115/1000\n",
      "\u001b[1m125/125\u001b[0m \u001b[32m━━━━━━━━━━━━━━━━━━━━\u001b[0m\u001b[37m\u001b[0m \u001b[1m2s\u001b[0m 14ms/step - MSE: 5.3601e-04 - loss: 5.3601e-04 - val_MSE: 0.0030 - val_loss: 0.0030 - learning_rate: 7.6000e-06\n",
      "Epoch 116/1000\n",
      "\u001b[1m125/125\u001b[0m \u001b[32m━━━━━━━━━━━━━━━━━━━━\u001b[0m\u001b[37m\u001b[0m \u001b[1m2s\u001b[0m 16ms/step - MSE: 5.5298e-04 - loss: 5.5298e-04 - val_MSE: 0.0030 - val_loss: 0.0030 - learning_rate: 7.6667e-06\n",
      "Epoch 117/1000\n",
      "\u001b[1m125/125\u001b[0m \u001b[32m━━━━━━━━━━━━━━━━━━━━\u001b[0m\u001b[37m\u001b[0m \u001b[1m2s\u001b[0m 15ms/step - MSE: 5.5171e-04 - loss: 5.5171e-04 - val_MSE: 0.0033 - val_loss: 0.0033 - learning_rate: 7.7333e-06\n",
      "Epoch 118/1000\n",
      "\u001b[1m125/125\u001b[0m \u001b[32m━━━━━━━━━━━━━━━━━━━━\u001b[0m\u001b[37m\u001b[0m \u001b[1m2s\u001b[0m 16ms/step - MSE: 4.9825e-04 - loss: 4.9825e-04 - val_MSE: 0.0030 - val_loss: 0.0030 - learning_rate: 7.8000e-06\n",
      "Epoch 119/1000\n",
      "\u001b[1m125/125\u001b[0m \u001b[32m━━━━━━━━━━━━━━━━━━━━\u001b[0m\u001b[37m\u001b[0m \u001b[1m2s\u001b[0m 16ms/step - MSE: 4.8282e-04 - loss: 4.8282e-04 - val_MSE: 0.0034 - val_loss: 0.0034 - learning_rate: 7.8667e-06\n",
      "Epoch 120/1000\n",
      "\u001b[1m125/125\u001b[0m \u001b[32m━━━━━━━━━━━━━━━━━━━━\u001b[0m\u001b[37m\u001b[0m \u001b[1m2s\u001b[0m 17ms/step - MSE: 4.7006e-04 - loss: 4.7006e-04 - val_MSE: 0.0029 - val_loss: 0.0029 - learning_rate: 7.9333e-06\n",
      "Epoch 121/1000\n",
      "\u001b[1m125/125\u001b[0m \u001b[32m━━━━━━━━━━━━━━━━━━━━\u001b[0m\u001b[37m\u001b[0m \u001b[1m2s\u001b[0m 16ms/step - MSE: 5.3332e-04 - loss: 5.3332e-04 - val_MSE: 0.0030 - val_loss: 0.0030 - learning_rate: 8.0000e-06\n",
      "Epoch 122/1000\n",
      "\u001b[1m125/125\u001b[0m \u001b[32m━━━━━━━━━━━━━━━━━━━━\u001b[0m\u001b[37m\u001b[0m \u001b[1m2s\u001b[0m 16ms/step - MSE: 5.0607e-04 - loss: 5.0607e-04 - val_MSE: 0.0034 - val_loss: 0.0034 - learning_rate: 8.0667e-06\n",
      "Epoch 123/1000\n",
      "\u001b[1m125/125\u001b[0m \u001b[32m━━━━━━━━━━━━━━━━━━━━\u001b[0m\u001b[37m\u001b[0m \u001b[1m2s\u001b[0m 16ms/step - MSE: 5.7648e-04 - loss: 5.7648e-04 - val_MSE: 0.0026 - val_loss: 0.0026 - learning_rate: 8.1333e-06\n",
      "Epoch 124/1000\n",
      "\u001b[1m125/125\u001b[0m \u001b[32m━━━━━━━━━━━━━━━━━━━━\u001b[0m\u001b[37m\u001b[0m \u001b[1m2s\u001b[0m 17ms/step - MSE: 4.8928e-04 - loss: 4.8928e-04 - val_MSE: 0.0030 - val_loss: 0.0030 - learning_rate: 8.2000e-06\n",
      "Epoch 125/1000\n",
      "\u001b[1m125/125\u001b[0m \u001b[32m━━━━━━━━━━━━━━━━━━━━\u001b[0m\u001b[37m\u001b[0m \u001b[1m2s\u001b[0m 16ms/step - MSE: 4.7762e-04 - loss: 4.7762e-04 - val_MSE: 0.0026 - val_loss: 0.0026 - learning_rate: 8.2667e-06\n",
      "Epoch 126/1000\n",
      "\u001b[1m125/125\u001b[0m \u001b[32m━━━━━━━━━━━━━━━━━━━━\u001b[0m\u001b[37m\u001b[0m \u001b[1m2s\u001b[0m 16ms/step - MSE: 5.1901e-04 - loss: 5.1901e-04 - val_MSE: 0.0026 - val_loss: 0.0026 - learning_rate: 8.3333e-06\n",
      "Epoch 127/1000\n",
      "\u001b[1m125/125\u001b[0m \u001b[32m━━━━━━━━━━━━━━━━━━━━\u001b[0m\u001b[37m\u001b[0m \u001b[1m2s\u001b[0m 15ms/step - MSE: 5.4007e-04 - loss: 5.4007e-04 - val_MSE: 0.0027 - val_loss: 0.0027 - learning_rate: 8.4000e-06\n",
      "Epoch 128/1000\n",
      "\u001b[1m125/125\u001b[0m \u001b[32m━━━━━━━━━━━━━━━━━━━━\u001b[0m\u001b[37m\u001b[0m \u001b[1m2s\u001b[0m 16ms/step - MSE: 4.4685e-04 - loss: 4.4685e-04 - val_MSE: 0.0025 - val_loss: 0.0025 - learning_rate: 8.4667e-06\n",
      "Epoch 129/1000\n",
      "\u001b[1m125/125\u001b[0m \u001b[32m━━━━━━━━━━━━━━━━━━━━\u001b[0m\u001b[37m\u001b[0m \u001b[1m2s\u001b[0m 17ms/step - MSE: 4.8760e-04 - loss: 4.8760e-04 - val_MSE: 0.0029 - val_loss: 0.0029 - learning_rate: 8.5333e-06\n",
      "Epoch 130/1000\n",
      "\u001b[1m125/125\u001b[0m \u001b[32m━━━━━━━━━━━━━━━━━━━━\u001b[0m\u001b[37m\u001b[0m \u001b[1m2s\u001b[0m 17ms/step - MSE: 4.5857e-04 - loss: 4.5857e-04 - val_MSE: 0.0024 - val_loss: 0.0024 - learning_rate: 8.6000e-06\n",
      "Epoch 131/1000\n",
      "\u001b[1m125/125\u001b[0m \u001b[32m━━━━━━━━━━━━━━━━━━━━\u001b[0m\u001b[37m\u001b[0m \u001b[1m2s\u001b[0m 16ms/step - MSE: 4.4537e-04 - loss: 4.4537e-04 - val_MSE: 0.0025 - val_loss: 0.0025 - learning_rate: 8.6667e-06\n",
      "Epoch 132/1000\n",
      "\u001b[1m125/125\u001b[0m \u001b[32m━━━━━━━━━━━━━━━━━━━━\u001b[0m\u001b[37m\u001b[0m \u001b[1m2s\u001b[0m 17ms/step - MSE: 4.5558e-04 - loss: 4.5558e-04 - val_MSE: 0.0026 - val_loss: 0.0026 - learning_rate: 8.7333e-06\n",
      "Epoch 133/1000\n",
      "\u001b[1m125/125\u001b[0m \u001b[32m━━━━━━━━━━━━━━━━━━━━\u001b[0m\u001b[37m\u001b[0m \u001b[1m2s\u001b[0m 16ms/step - MSE: 4.5621e-04 - loss: 4.5621e-04 - val_MSE: 0.0024 - val_loss: 0.0024 - learning_rate: 8.8000e-06\n",
      "Epoch 134/1000\n",
      "\u001b[1m125/125\u001b[0m \u001b[32m━━━━━━━━━━━━━━━━━━━━\u001b[0m\u001b[37m\u001b[0m \u001b[1m2s\u001b[0m 15ms/step - MSE: 4.2840e-04 - loss: 4.2840e-04 - val_MSE: 0.0025 - val_loss: 0.0025 - learning_rate: 8.8667e-06\n",
      "Epoch 135/1000\n",
      "\u001b[1m125/125\u001b[0m \u001b[32m━━━━━━━━━━━━━━━━━━━━\u001b[0m\u001b[37m\u001b[0m \u001b[1m2s\u001b[0m 17ms/step - MSE: 4.6508e-04 - loss: 4.6508e-04 - val_MSE: 0.0023 - val_loss: 0.0023 - learning_rate: 8.9333e-06\n",
      "Epoch 136/1000\n",
      "\u001b[1m125/125\u001b[0m \u001b[32m━━━━━━━━━━━━━━━━━━━━\u001b[0m\u001b[37m\u001b[0m \u001b[1m2s\u001b[0m 18ms/step - MSE: 4.5746e-04 - loss: 4.5746e-04 - val_MSE: 0.0025 - val_loss: 0.0025 - learning_rate: 9.0000e-06\n",
      "Epoch 137/1000\n",
      "\u001b[1m125/125\u001b[0m \u001b[32m━━━━━━━━━━━━━━━━━━━━\u001b[0m\u001b[37m\u001b[0m \u001b[1m2s\u001b[0m 18ms/step - MSE: 4.3742e-04 - loss: 4.3742e-04 - val_MSE: 0.0022 - val_loss: 0.0022 - learning_rate: 9.0667e-06\n",
      "Epoch 138/1000\n",
      "\u001b[1m125/125\u001b[0m \u001b[32m━━━━━━━━━━━━━━━━━━━━\u001b[0m\u001b[37m\u001b[0m \u001b[1m2s\u001b[0m 18ms/step - MSE: 4.3312e-04 - loss: 4.3312e-04 - val_MSE: 0.0021 - val_loss: 0.0021 - learning_rate: 9.1333e-06\n",
      "Epoch 139/1000\n",
      "\u001b[1m125/125\u001b[0m \u001b[32m━━━━━━━━━━━━━━━━━━━━\u001b[0m\u001b[37m\u001b[0m \u001b[1m2s\u001b[0m 19ms/step - MSE: 4.4916e-04 - loss: 4.4916e-04 - val_MSE: 0.0024 - val_loss: 0.0024 - learning_rate: 9.2000e-06\n",
      "Epoch 140/1000\n",
      "\u001b[1m125/125\u001b[0m \u001b[32m━━━━━━━━━━━━━━━━━━━━\u001b[0m\u001b[37m\u001b[0m \u001b[1m2s\u001b[0m 19ms/step - MSE: 4.2379e-04 - loss: 4.2379e-04 - val_MSE: 0.0021 - val_loss: 0.0021 - learning_rate: 9.2667e-06\n",
      "Epoch 141/1000\n",
      "\u001b[1m125/125\u001b[0m \u001b[32m━━━━━━━━━━━━━━━━━━━━\u001b[0m\u001b[37m\u001b[0m \u001b[1m2s\u001b[0m 18ms/step - MSE: 4.4378e-04 - loss: 4.4378e-04 - val_MSE: 0.0020 - val_loss: 0.0020 - learning_rate: 9.3333e-06\n",
      "Epoch 142/1000\n",
      "\u001b[1m125/125\u001b[0m \u001b[32m━━━━━━━━━━━━━━━━━━━━\u001b[0m\u001b[37m\u001b[0m \u001b[1m2s\u001b[0m 18ms/step - MSE: 3.9285e-04 - loss: 3.9285e-04 - val_MSE: 0.0020 - val_loss: 0.0020 - learning_rate: 9.4000e-06\n",
      "Epoch 143/1000\n",
      "\u001b[1m125/125\u001b[0m \u001b[32m━━━━━━━━━━━━━━━━━━━━\u001b[0m\u001b[37m\u001b[0m \u001b[1m2s\u001b[0m 19ms/step - MSE: 4.4145e-04 - loss: 4.4145e-04 - val_MSE: 0.0020 - val_loss: 0.0020 - learning_rate: 9.4667e-06\n",
      "Epoch 144/1000\n",
      "\u001b[1m125/125\u001b[0m \u001b[32m━━━━━━━━━━━━━━━━━━━━\u001b[0m\u001b[37m\u001b[0m \u001b[1m2s\u001b[0m 19ms/step - MSE: 3.8699e-04 - loss: 3.8699e-04 - val_MSE: 0.0020 - val_loss: 0.0020 - learning_rate: 9.5333e-06\n",
      "Epoch 145/1000\n",
      "\u001b[1m125/125\u001b[0m \u001b[32m━━━━━━━━━━━━━━━━━━━━\u001b[0m\u001b[37m\u001b[0m \u001b[1m2s\u001b[0m 19ms/step - MSE: 4.0181e-04 - loss: 4.0181e-04 - val_MSE: 0.0020 - val_loss: 0.0020 - learning_rate: 9.6000e-06\n",
      "Epoch 146/1000\n",
      "\u001b[1m125/125\u001b[0m \u001b[32m━━━━━━━━━━━━━━━━━━━━\u001b[0m\u001b[37m\u001b[0m \u001b[1m2s\u001b[0m 18ms/step - MSE: 4.0825e-04 - loss: 4.0825e-04 - val_MSE: 0.0020 - val_loss: 0.0020 - learning_rate: 9.6667e-06\n",
      "Epoch 147/1000\n",
      "\u001b[1m125/125\u001b[0m \u001b[32m━━━━━━━━━━━━━━━━━━━━\u001b[0m\u001b[37m\u001b[0m \u001b[1m2s\u001b[0m 18ms/step - MSE: 3.9217e-04 - loss: 3.9217e-04 - val_MSE: 0.0019 - val_loss: 0.0019 - learning_rate: 9.7333e-06\n",
      "Epoch 148/1000\n",
      "\u001b[1m125/125\u001b[0m \u001b[32m━━━━━━━━━━━━━━━━━━━━\u001b[0m\u001b[37m\u001b[0m \u001b[1m2s\u001b[0m 19ms/step - MSE: 4.3196e-04 - loss: 4.3196e-04 - val_MSE: 0.0019 - val_loss: 0.0019 - learning_rate: 9.8000e-06\n",
      "Epoch 149/1000\n",
      "\u001b[1m125/125\u001b[0m \u001b[32m━━━━━━━━━━━━━━━━━━━━\u001b[0m\u001b[37m\u001b[0m \u001b[1m2s\u001b[0m 18ms/step - MSE: 4.0486e-04 - loss: 4.0486e-04 - val_MSE: 0.0020 - val_loss: 0.0020 - learning_rate: 9.8667e-06\n",
      "Epoch 150/1000\n",
      "\u001b[1m125/125\u001b[0m \u001b[32m━━━━━━━━━━━━━━━━━━━━\u001b[0m\u001b[37m\u001b[0m \u001b[1m2s\u001b[0m 19ms/step - MSE: 3.8842e-04 - loss: 3.8842e-04 - val_MSE: 0.0018 - val_loss: 0.0018 - learning_rate: 9.9333e-06\n",
      "Epoch 151/1000\n",
      "\u001b[1m125/125\u001b[0m \u001b[32m━━━━━━━━━━━━━━━━━━━━\u001b[0m\u001b[37m\u001b[0m \u001b[1m2s\u001b[0m 19ms/step - MSE: 3.7496e-04 - loss: 3.7496e-04 - val_MSE: 0.0021 - val_loss: 0.0021 - learning_rate: 1.0000e-05\n",
      "Epoch 152/1000\n",
      "\u001b[1m125/125\u001b[0m \u001b[32m━━━━━━━━━━━━━━━━━━━━\u001b[0m\u001b[37m\u001b[0m \u001b[1m2s\u001b[0m 18ms/step - MSE: 3.8136e-04 - loss: 3.8136e-04 - val_MSE: 0.0017 - val_loss: 0.0017 - learning_rate: 9.9005e-06\n",
      "Epoch 153/1000\n",
      "\u001b[1m125/125\u001b[0m \u001b[32m━━━━━━━━━━━━━━━━━━━━\u001b[0m\u001b[37m\u001b[0m \u001b[1m2s\u001b[0m 18ms/step - MSE: 3.9581e-04 - loss: 3.9581e-04 - val_MSE: 0.0018 - val_loss: 0.0018 - learning_rate: 9.8020e-06\n",
      "Epoch 154/1000\n",
      "\u001b[1m125/125\u001b[0m \u001b[32m━━━━━━━━━━━━━━━━━━━━\u001b[0m\u001b[37m\u001b[0m \u001b[1m2s\u001b[0m 19ms/step - MSE: 3.5608e-04 - loss: 3.5608e-04 - val_MSE: 0.0017 - val_loss: 0.0017 - learning_rate: 9.7045e-06\n",
      "Epoch 155/1000\n",
      "\u001b[1m125/125\u001b[0m \u001b[32m━━━━━━━━━━━━━━━━━━━━\u001b[0m\u001b[37m\u001b[0m \u001b[1m2s\u001b[0m 18ms/step - MSE: 3.5923e-04 - loss: 3.5923e-04 - val_MSE: 0.0017 - val_loss: 0.0017 - learning_rate: 9.6079e-06\n",
      "Epoch 156/1000\n",
      "\u001b[1m125/125\u001b[0m \u001b[32m━━━━━━━━━━━━━━━━━━━━\u001b[0m\u001b[37m\u001b[0m \u001b[1m2s\u001b[0m 18ms/step - MSE: 3.3965e-04 - loss: 3.3965e-04 - val_MSE: 0.0016 - val_loss: 0.0016 - learning_rate: 9.5123e-06\n",
      "Epoch 157/1000\n",
      "\u001b[1m125/125\u001b[0m \u001b[32m━━━━━━━━━━━━━━━━━━━━\u001b[0m\u001b[37m\u001b[0m \u001b[1m2s\u001b[0m 19ms/step - MSE: 3.6779e-04 - loss: 3.6779e-04 - val_MSE: 0.0016 - val_loss: 0.0016 - learning_rate: 9.4176e-06\n",
      "Epoch 158/1000\n",
      "\u001b[1m125/125\u001b[0m \u001b[32m━━━━━━━━━━━━━━━━━━━━\u001b[0m\u001b[37m\u001b[0m \u001b[1m2s\u001b[0m 18ms/step - MSE: 3.3527e-04 - loss: 3.3527e-04 - val_MSE: 0.0016 - val_loss: 0.0016 - learning_rate: 9.3239e-06\n",
      "Epoch 159/1000\n",
      "\u001b[1m125/125\u001b[0m \u001b[32m━━━━━━━━━━━━━━━━━━━━\u001b[0m\u001b[37m\u001b[0m \u001b[1m2s\u001b[0m 18ms/step - MSE: 3.4721e-04 - loss: 3.4721e-04 - val_MSE: 0.0016 - val_loss: 0.0016 - learning_rate: 9.2312e-06\n",
      "Epoch 160/1000\n",
      "\u001b[1m125/125\u001b[0m \u001b[32m━━━━━━━━━━━━━━━━━━━━\u001b[0m\u001b[37m\u001b[0m \u001b[1m2s\u001b[0m 19ms/step - MSE: 3.4233e-04 - loss: 3.4233e-04 - val_MSE: 0.0016 - val_loss: 0.0016 - learning_rate: 9.1393e-06\n",
      "Epoch 161/1000\n",
      "\u001b[1m125/125\u001b[0m \u001b[32m━━━━━━━━━━━━━━━━━━━━\u001b[0m\u001b[37m\u001b[0m \u001b[1m2s\u001b[0m 18ms/step - MSE: 3.4655e-04 - loss: 3.4655e-04 - val_MSE: 0.0015 - val_loss: 0.0015 - learning_rate: 9.0484e-06\n",
      "Epoch 162/1000\n",
      "\u001b[1m125/125\u001b[0m \u001b[32m━━━━━━━━━━━━━━━━━━━━\u001b[0m\u001b[37m\u001b[0m \u001b[1m2s\u001b[0m 19ms/step - MSE: 3.5525e-04 - loss: 3.5525e-04 - val_MSE: 0.0015 - val_loss: 0.0015 - learning_rate: 8.9583e-06\n",
      "Epoch 163/1000\n",
      "\u001b[1m125/125\u001b[0m \u001b[32m━━━━━━━━━━━━━━━━━━━━\u001b[0m\u001b[37m\u001b[0m \u001b[1m2s\u001b[0m 19ms/step - MSE: 3.1810e-04 - loss: 3.1810e-04 - val_MSE: 0.0015 - val_loss: 0.0015 - learning_rate: 8.8692e-06\n",
      "Epoch 164/1000\n",
      "\u001b[1m125/125\u001b[0m \u001b[32m━━━━━━━━━━━━━━━━━━━━\u001b[0m\u001b[37m\u001b[0m \u001b[1m2s\u001b[0m 19ms/step - MSE: 3.1440e-04 - loss: 3.1440e-04 - val_MSE: 0.0019 - val_loss: 0.0019 - learning_rate: 8.7810e-06\n",
      "Epoch 165/1000\n",
      "\u001b[1m125/125\u001b[0m \u001b[32m━━━━━━━━━━━━━━━━━━━━\u001b[0m\u001b[37m\u001b[0m \u001b[1m2s\u001b[0m 18ms/step - MSE: 3.4985e-04 - loss: 3.4985e-04 - val_MSE: 0.0015 - val_loss: 0.0015 - learning_rate: 8.6936e-06\n",
      "Epoch 166/1000\n",
      "\u001b[1m125/125\u001b[0m \u001b[32m━━━━━━━━━━━━━━━━━━━━\u001b[0m\u001b[37m\u001b[0m \u001b[1m2s\u001b[0m 19ms/step - MSE: 3.5530e-04 - loss: 3.5530e-04 - val_MSE: 0.0015 - val_loss: 0.0015 - learning_rate: 8.6071e-06\n",
      "Epoch 167/1000\n",
      "\u001b[1m125/125\u001b[0m \u001b[32m━━━━━━━━━━━━━━━━━━━━\u001b[0m\u001b[37m\u001b[0m \u001b[1m2s\u001b[0m 19ms/step - MSE: 3.2151e-04 - loss: 3.2151e-04 - val_MSE: 0.0019 - val_loss: 0.0019 - learning_rate: 8.5214e-06\n",
      "Epoch 168/1000\n",
      "\u001b[1m125/125\u001b[0m \u001b[32m━━━━━━━━━━━━━━━━━━━━\u001b[0m\u001b[37m\u001b[0m \u001b[1m2s\u001b[0m 19ms/step - MSE: 3.4042e-04 - loss: 3.4042e-04 - val_MSE: 0.0015 - val_loss: 0.0015 - learning_rate: 8.4366e-06\n",
      "Epoch 169/1000\n",
      "\u001b[1m125/125\u001b[0m \u001b[32m━━━━━━━━━━━━━━━━━━━━\u001b[0m\u001b[37m\u001b[0m \u001b[1m2s\u001b[0m 18ms/step - MSE: 3.2746e-04 - loss: 3.2746e-04 - val_MSE: 0.0020 - val_loss: 0.0020 - learning_rate: 8.3527e-06\n",
      "Epoch 170/1000\n",
      "\u001b[1m125/125\u001b[0m \u001b[32m━━━━━━━━━━━━━━━━━━━━\u001b[0m\u001b[37m\u001b[0m \u001b[1m2s\u001b[0m 19ms/step - MSE: 3.1511e-04 - loss: 3.1511e-04 - val_MSE: 0.0016 - val_loss: 0.0016 - learning_rate: 8.2696e-06\n",
      "Epoch 171/1000\n",
      "\u001b[1m125/125\u001b[0m \u001b[32m━━━━━━━━━━━━━━━━━━━━\u001b[0m\u001b[37m\u001b[0m \u001b[1m2s\u001b[0m 19ms/step - MSE: 3.2310e-04 - loss: 3.2310e-04 - val_MSE: 0.0017 - val_loss: 0.0017 - learning_rate: 8.1873e-06\n",
      "Epoch 172/1000\n",
      "\u001b[1m125/125\u001b[0m \u001b[32m━━━━━━━━━━━━━━━━━━━━\u001b[0m\u001b[37m\u001b[0m \u001b[1m2s\u001b[0m 18ms/step - MSE: 2.9405e-04 - loss: 2.9405e-04 - val_MSE: 0.0016 - val_loss: 0.0016 - learning_rate: 8.1058e-06\n",
      "Epoch 173/1000\n",
      "\u001b[1m125/125\u001b[0m \u001b[32m━━━━━━━━━━━━━━━━━━━━\u001b[0m\u001b[37m\u001b[0m \u001b[1m2s\u001b[0m 19ms/step - MSE: 3.3386e-04 - loss: 3.3386e-04 - val_MSE: 0.0014 - val_loss: 0.0014 - learning_rate: 8.0252e-06\n",
      "Epoch 174/1000\n",
      "\u001b[1m125/125\u001b[0m \u001b[32m━━━━━━━━━━━━━━━━━━━━\u001b[0m\u001b[37m\u001b[0m \u001b[1m2s\u001b[0m 18ms/step - MSE: 3.0426e-04 - loss: 3.0426e-04 - val_MSE: 0.0016 - val_loss: 0.0016 - learning_rate: 7.9453e-06\n",
      "Epoch 175/1000\n",
      "\u001b[1m125/125\u001b[0m \u001b[32m━━━━━━━━━━━━━━━━━━━━\u001b[0m\u001b[37m\u001b[0m \u001b[1m2s\u001b[0m 18ms/step - MSE: 3.1653e-04 - loss: 3.1653e-04 - val_MSE: 0.0019 - val_loss: 0.0019 - learning_rate: 7.8663e-06\n",
      "Epoch 176/1000\n",
      "\u001b[1m125/125\u001b[0m \u001b[32m━━━━━━━━━━━━━━━━━━━━\u001b[0m\u001b[37m\u001b[0m \u001b[1m2s\u001b[0m 19ms/step - MSE: 2.9878e-04 - loss: 2.9878e-04 - val_MSE: 0.0015 - val_loss: 0.0015 - learning_rate: 7.7880e-06\n",
      "Epoch 177/1000\n",
      "\u001b[1m125/125\u001b[0m \u001b[32m━━━━━━━━━━━━━━━━━━━━\u001b[0m\u001b[37m\u001b[0m \u001b[1m2s\u001b[0m 18ms/step - MSE: 3.0470e-04 - loss: 3.0470e-04 - val_MSE: 0.0016 - val_loss: 0.0016 - learning_rate: 7.7105e-06\n",
      "Epoch 178/1000\n",
      "\u001b[1m125/125\u001b[0m \u001b[32m━━━━━━━━━━━━━━━━━━━━\u001b[0m\u001b[37m\u001b[0m \u001b[1m2s\u001b[0m 19ms/step - MSE: 3.0445e-04 - loss: 3.0445e-04 - val_MSE: 0.0015 - val_loss: 0.0015 - learning_rate: 7.6338e-06\n",
      "Epoch 179/1000\n",
      "\u001b[1m125/125\u001b[0m \u001b[32m━━━━━━━━━━━━━━━━━━━━\u001b[0m\u001b[37m\u001b[0m \u001b[1m2s\u001b[0m 18ms/step - MSE: 3.0914e-04 - loss: 3.0914e-04 - val_MSE: 0.0016 - val_loss: 0.0016 - learning_rate: 7.5578e-06\n",
      "Epoch 180/1000\n",
      "\u001b[1m125/125\u001b[0m \u001b[32m━━━━━━━━━━━━━━━━━━━━\u001b[0m\u001b[37m\u001b[0m \u001b[1m2s\u001b[0m 18ms/step - MSE: 2.9829e-04 - loss: 2.9829e-04 - val_MSE: 0.0022 - val_loss: 0.0022 - learning_rate: 7.4826e-06\n",
      "Epoch 181/1000\n",
      "\u001b[1m125/125\u001b[0m \u001b[32m━━━━━━━━━━━━━━━━━━━━\u001b[0m\u001b[37m\u001b[0m \u001b[1m2s\u001b[0m 19ms/step - MSE: 2.9067e-04 - loss: 2.9067e-04 - val_MSE: 0.0022 - val_loss: 0.0022 - learning_rate: 7.4082e-06\n",
      "Epoch 182/1000\n",
      "\u001b[1m125/125\u001b[0m \u001b[32m━━━━━━━━━━━━━━━━━━━━\u001b[0m\u001b[37m\u001b[0m \u001b[1m2s\u001b[0m 18ms/step - MSE: 3.0793e-04 - loss: 3.0793e-04 - val_MSE: 0.0020 - val_loss: 0.0020 - learning_rate: 7.3345e-06\n",
      "Epoch 183/1000\n",
      "\u001b[1m125/125\u001b[0m \u001b[32m━━━━━━━━━━━━━━━━━━━━\u001b[0m\u001b[37m\u001b[0m \u001b[1m2s\u001b[0m 18ms/step - MSE: 2.9907e-04 - loss: 2.9907e-04 - val_MSE: 0.0020 - val_loss: 0.0020 - learning_rate: 7.2615e-06\n",
      "Epoch 184/1000\n",
      "\u001b[1m125/125\u001b[0m \u001b[32m━━━━━━━━━━━━━━━━━━━━\u001b[0m\u001b[37m\u001b[0m \u001b[1m2s\u001b[0m 18ms/step - MSE: 2.8960e-04 - loss: 2.8960e-04 - val_MSE: 0.0016 - val_loss: 0.0016 - learning_rate: 7.1892e-06\n",
      "Epoch 185/1000\n",
      "\u001b[1m125/125\u001b[0m \u001b[32m━━━━━━━━━━━━━━━━━━━━\u001b[0m\u001b[37m\u001b[0m \u001b[1m2s\u001b[0m 18ms/step - MSE: 2.9271e-04 - loss: 2.9271e-04 - val_MSE: 0.0015 - val_loss: 0.0015 - learning_rate: 7.1177e-06\n",
      "Epoch 186/1000\n",
      "\u001b[1m125/125\u001b[0m \u001b[32m━━━━━━━━━━━━━━━━━━━━\u001b[0m\u001b[37m\u001b[0m \u001b[1m2s\u001b[0m 19ms/step - MSE: 3.1198e-04 - loss: 3.1198e-04 - val_MSE: 0.0018 - val_loss: 0.0018 - learning_rate: 7.0469e-06\n",
      "Epoch 187/1000\n",
      "\u001b[1m125/125\u001b[0m \u001b[32m━━━━━━━━━━━━━━━━━━━━\u001b[0m\u001b[37m\u001b[0m \u001b[1m2s\u001b[0m 18ms/step - MSE: 2.9197e-04 - loss: 2.9197e-04 - val_MSE: 0.0016 - val_loss: 0.0016 - learning_rate: 6.9768e-06\n",
      "Epoch 188/1000\n",
      "\u001b[1m125/125\u001b[0m \u001b[32m━━━━━━━━━━━━━━━━━━━━\u001b[0m\u001b[37m\u001b[0m \u001b[1m2s\u001b[0m 18ms/step - MSE: 3.1049e-04 - loss: 3.1049e-04 - val_MSE: 0.0018 - val_loss: 0.0018 - learning_rate: 6.9073e-06\n",
      "Epoch 189/1000\n",
      "\u001b[1m125/125\u001b[0m \u001b[32m━━━━━━━━━━━━━━━━━━━━\u001b[0m\u001b[37m\u001b[0m \u001b[1m2s\u001b[0m 19ms/step - MSE: 2.6865e-04 - loss: 2.6865e-04 - val_MSE: 0.0016 - val_loss: 0.0016 - learning_rate: 6.8386e-06\n",
      "Epoch 190/1000\n",
      "\u001b[1m125/125\u001b[0m \u001b[32m━━━━━━━━━━━━━━━━━━━━\u001b[0m\u001b[37m\u001b[0m \u001b[1m2s\u001b[0m 18ms/step - MSE: 2.7596e-04 - loss: 2.7596e-04 - val_MSE: 0.0021 - val_loss: 0.0021 - learning_rate: 6.7706e-06\n",
      "Epoch 191/1000\n",
      "\u001b[1m125/125\u001b[0m \u001b[32m━━━━━━━━━━━━━━━━━━━━\u001b[0m\u001b[37m\u001b[0m \u001b[1m2s\u001b[0m 19ms/step - MSE: 2.9357e-04 - loss: 2.9357e-04 - val_MSE: 0.0016 - val_loss: 0.0016 - learning_rate: 6.7032e-06\n",
      "Epoch 192/1000\n",
      "\u001b[1m125/125\u001b[0m \u001b[32m━━━━━━━━━━━━━━━━━━━━\u001b[0m\u001b[37m\u001b[0m \u001b[1m2s\u001b[0m 19ms/step - MSE: 2.8666e-04 - loss: 2.8666e-04 - val_MSE: 0.0018 - val_loss: 0.0018 - learning_rate: 6.6365e-06\n",
      "Epoch 193/1000\n",
      "\u001b[1m125/125\u001b[0m \u001b[32m━━━━━━━━━━━━━━━━━━━━\u001b[0m\u001b[37m\u001b[0m \u001b[1m2s\u001b[0m 18ms/step - MSE: 2.9772e-04 - loss: 2.9772e-04 - val_MSE: 0.0017 - val_loss: 0.0017 - learning_rate: 6.5705e-06\n",
      "Epoch 194/1000\n",
      "\u001b[1m125/125\u001b[0m \u001b[32m━━━━━━━━━━━━━━━━━━━━\u001b[0m\u001b[37m\u001b[0m \u001b[1m2s\u001b[0m 18ms/step - MSE: 3.0169e-04 - loss: 3.0169e-04 - val_MSE: 0.0023 - val_loss: 0.0023 - learning_rate: 6.5051e-06\n",
      "Epoch 195/1000\n",
      "\u001b[1m125/125\u001b[0m \u001b[32m━━━━━━━━━━━━━━━━━━━━\u001b[0m\u001b[37m\u001b[0m \u001b[1m2s\u001b[0m 18ms/step - MSE: 2.9523e-04 - loss: 2.9523e-04 - val_MSE: 0.0017 - val_loss: 0.0017 - learning_rate: 6.4404e-06\n",
      "Epoch 196/1000\n",
      "\u001b[1m125/125\u001b[0m \u001b[32m━━━━━━━━━━━━━━━━━━━━\u001b[0m\u001b[37m\u001b[0m \u001b[1m2s\u001b[0m 18ms/step - MSE: 2.6891e-04 - loss: 2.6891e-04 - val_MSE: 0.0018 - val_loss: 0.0018 - learning_rate: 6.3763e-06\n",
      "Epoch 197/1000\n",
      "\u001b[1m125/125\u001b[0m \u001b[32m━━━━━━━━━━━━━━━━━━━━\u001b[0m\u001b[37m\u001b[0m \u001b[1m2s\u001b[0m 19ms/step - MSE: 2.8307e-04 - loss: 2.8307e-04 - val_MSE: 0.0019 - val_loss: 0.0019 - learning_rate: 6.3128e-06\n",
      "Epoch 198/1000\n",
      "\u001b[1m125/125\u001b[0m \u001b[32m━━━━━━━━━━━━━━━━━━━━\u001b[0m\u001b[37m\u001b[0m \u001b[1m2s\u001b[0m 19ms/step - MSE: 2.8380e-04 - loss: 2.8380e-04 - val_MSE: 0.0021 - val_loss: 0.0021 - learning_rate: 6.2500e-06\n",
      "Epoch 199/1000\n",
      "\u001b[1m125/125\u001b[0m \u001b[32m━━━━━━━━━━━━━━━━━━━━\u001b[0m\u001b[37m\u001b[0m \u001b[1m2s\u001b[0m 18ms/step - MSE: 2.8306e-04 - loss: 2.8306e-04 - val_MSE: 0.0016 - val_loss: 0.0016 - learning_rate: 6.1878e-06\n",
      "Epoch 200/1000\n",
      "\u001b[1m125/125\u001b[0m \u001b[32m━━━━━━━━━━━━━━━━━━━━\u001b[0m\u001b[37m\u001b[0m \u001b[1m2s\u001b[0m 19ms/step - MSE: 2.8795e-04 - loss: 2.8795e-04 - val_MSE: 0.0016 - val_loss: 0.0016 - learning_rate: 6.1263e-06\n",
      "Epoch 201/1000\n",
      "\u001b[1m125/125\u001b[0m \u001b[32m━━━━━━━━━━━━━━━━━━━━\u001b[0m\u001b[37m\u001b[0m \u001b[1m2s\u001b[0m 18ms/step - MSE: 2.9133e-04 - loss: 2.9133e-04 - val_MSE: 0.0015 - val_loss: 0.0015 - learning_rate: 6.0653e-06\n",
      "Epoch 202/1000\n",
      "\u001b[1m125/125\u001b[0m \u001b[32m━━━━━━━━━━━━━━━━━━━━\u001b[0m\u001b[37m\u001b[0m \u001b[1m2s\u001b[0m 19ms/step - MSE: 3.0439e-04 - loss: 3.0439e-04 - val_MSE: 0.0022 - val_loss: 0.0022 - learning_rate: 6.0050e-06\n",
      "Epoch 203/1000\n",
      "\u001b[1m125/125\u001b[0m \u001b[32m━━━━━━━━━━━━━━━━━━━━\u001b[0m\u001b[37m\u001b[0m \u001b[1m2s\u001b[0m 19ms/step - MSE: 2.7417e-04 - loss: 2.7417e-04 - val_MSE: 0.0017 - val_loss: 0.0017 - learning_rate: 5.9452e-06\n",
      "Epoch 204/1000\n",
      "\u001b[1m125/125\u001b[0m \u001b[32m━━━━━━━━━━━━━━━━━━━━\u001b[0m\u001b[37m\u001b[0m \u001b[1m2s\u001b[0m 18ms/step - MSE: 2.9165e-04 - loss: 2.9165e-04 - val_MSE: 0.0014 - val_loss: 0.0014 - learning_rate: 5.8860e-06\n",
      "Epoch 205/1000\n",
      "\u001b[1m125/125\u001b[0m \u001b[32m━━━━━━━━━━━━━━━━━━━━\u001b[0m\u001b[37m\u001b[0m \u001b[1m2s\u001b[0m 18ms/step - MSE: 2.8326e-04 - loss: 2.8326e-04 - val_MSE: 0.0017 - val_loss: 0.0017 - learning_rate: 5.8275e-06\n",
      "Epoch 206/1000\n",
      "\u001b[1m125/125\u001b[0m \u001b[32m━━━━━━━━━━━━━━━━━━━━\u001b[0m\u001b[37m\u001b[0m \u001b[1m2s\u001b[0m 19ms/step - MSE: 2.8621e-04 - loss: 2.8621e-04 - val_MSE: 0.0018 - val_loss: 0.0018 - learning_rate: 5.7695e-06\n",
      "Epoch 207/1000\n",
      "\u001b[1m125/125\u001b[0m \u001b[32m━━━━━━━━━━━━━━━━━━━━\u001b[0m\u001b[37m\u001b[0m \u001b[1m2s\u001b[0m 18ms/step - MSE: 2.8966e-04 - loss: 2.8966e-04 - val_MSE: 0.0017 - val_loss: 0.0017 - learning_rate: 5.7121e-06\n",
      "Epoch 208/1000\n",
      "\u001b[1m125/125\u001b[0m \u001b[32m━━━━━━━━━━━━━━━━━━━━\u001b[0m\u001b[37m\u001b[0m \u001b[1m2s\u001b[0m 19ms/step - MSE: 2.8614e-04 - loss: 2.8614e-04 - val_MSE: 0.0018 - val_loss: 0.0018 - learning_rate: 5.6553e-06\n",
      "Epoch 209/1000\n",
      "\u001b[1m125/125\u001b[0m \u001b[32m━━━━━━━━━━━━━━━━━━━━\u001b[0m\u001b[37m\u001b[0m \u001b[1m2s\u001b[0m 19ms/step - MSE: 2.8483e-04 - loss: 2.8483e-04 - val_MSE: 0.0018 - val_loss: 0.0018 - learning_rate: 5.5990e-06\n",
      "Epoch 210/1000\n",
      "\u001b[1m125/125\u001b[0m \u001b[32m━━━━━━━━━━━━━━━━━━━━\u001b[0m\u001b[37m\u001b[0m \u001b[1m2s\u001b[0m 18ms/step - MSE: 2.7941e-04 - loss: 2.7941e-04 - val_MSE: 0.0019 - val_loss: 0.0019 - learning_rate: 5.5433e-06\n",
      "Epoch 211/1000\n",
      "\u001b[1m125/125\u001b[0m \u001b[32m━━━━━━━━━━━━━━━━━━━━\u001b[0m\u001b[37m\u001b[0m \u001b[1m2s\u001b[0m 19ms/step - MSE: 2.8864e-04 - loss: 2.8864e-04 - val_MSE: 0.0021 - val_loss: 0.0021 - learning_rate: 5.4881e-06\n",
      "Epoch 212/1000\n",
      "\u001b[1m125/125\u001b[0m \u001b[32m━━━━━━━━━━━━━━━━━━━━\u001b[0m\u001b[37m\u001b[0m \u001b[1m2s\u001b[0m 18ms/step - MSE: 2.9545e-04 - loss: 2.9545e-04 - val_MSE: 0.0017 - val_loss: 0.0017 - learning_rate: 5.4335e-06\n",
      "Epoch 213/1000\n",
      "\u001b[1m125/125\u001b[0m \u001b[32m━━━━━━━━━━━━━━━━━━━━\u001b[0m\u001b[37m\u001b[0m \u001b[1m2s\u001b[0m 19ms/step - MSE: 2.6384e-04 - loss: 2.6384e-04 - val_MSE: 0.0024 - val_loss: 0.0024 - learning_rate: 5.3794e-06\n",
      "Epoch 214/1000\n",
      "\u001b[1m125/125\u001b[0m \u001b[32m━━━━━━━━━━━━━━━━━━━━\u001b[0m\u001b[37m\u001b[0m \u001b[1m2s\u001b[0m 18ms/step - MSE: 2.6987e-04 - loss: 2.6987e-04 - val_MSE: 0.0016 - val_loss: 0.0016 - learning_rate: 5.3259e-06\n",
      "Epoch 215/1000\n",
      "\u001b[1m125/125\u001b[0m \u001b[32m━━━━━━━━━━━━━━━━━━━━\u001b[0m\u001b[37m\u001b[0m \u001b[1m2s\u001b[0m 18ms/step - MSE: 2.8893e-04 - loss: 2.8893e-04 - val_MSE: 0.0019 - val_loss: 0.0019 - learning_rate: 5.2729e-06\n",
      "Epoch 216/1000\n",
      "\u001b[1m125/125\u001b[0m \u001b[32m━━━━━━━━━━━━━━━━━━━━\u001b[0m\u001b[37m\u001b[0m \u001b[1m2s\u001b[0m 19ms/step - MSE: 2.9420e-04 - loss: 2.9420e-04 - val_MSE: 0.0018 - val_loss: 0.0018 - learning_rate: 5.2205e-06\n",
      "Epoch 217/1000\n",
      "\u001b[1m125/125\u001b[0m \u001b[32m━━━━━━━━━━━━━━━━━━━━\u001b[0m\u001b[37m\u001b[0m \u001b[1m2s\u001b[0m 18ms/step - MSE: 2.6840e-04 - loss: 2.6840e-04 - val_MSE: 0.0019 - val_loss: 0.0019 - learning_rate: 5.1685e-06\n",
      "Epoch 218/1000\n",
      "\u001b[1m 64/125\u001b[0m \u001b[32m━━━━━━━━━━\u001b[0m\u001b[37m━━━━━━━━━━\u001b[0m \u001b[1m1s\u001b[0m 16ms/step - MSE: 2.8856e-04 - loss: 2.8856e-04"
     ]
    }
   ],
   "source": [
    "history = model.fit(x_train, y_train, epochs=1000, validation_data=(x_val, y_val),\n",
    "                        callbacks=[callback,tensorboard_callback])"
   ]
  },
  {
   "cell_type": "code",
   "execution_count": null,
   "id": "85514ad3-b5a0-4595-97e9-4a2f972359bf",
   "metadata": {
    "id": "85514ad3-b5a0-4595-97e9-4a2f972359bf"
   },
   "outputs": [],
   "source": [
    "model.save(f\"{sym}.keras\")"
   ]
  },
  {
   "cell_type": "code",
   "execution_count": null,
   "id": "0b332007-3b4b-4dcf-964c-b34f4bf552e1",
   "metadata": {
    "colab": {
     "base_uri": "https://localhost:8080/",
     "height": 333
    },
    "id": "0b332007-3b4b-4dcf-964c-b34f4bf552e1",
    "outputId": "981259a0-cb34-4568-b803-14c88323ce98"
   },
   "outputs": [],
   "source": [
    "history_dict = history.history\n",
    "loss = history_dict[\"loss\"]\n",
    "root_mean_squared_error = history_dict[\"MSE\"]\n",
    "val_loss = history_dict[\"val_loss\"]\n",
    "val_root_mean_squared_error = history_dict[\"val_MSE\"]\n",
    "\n",
    "epochs = range(1, len(loss) + 1)\n",
    "fig, (ax1, ax2) = plt.subplots(1, 2)\n",
    "fig.set_figheight(5)\n",
    "fig.set_figwidth(15)\n",
    "ax1.plot(epochs, loss, label = 'Training Loss')\n",
    "ax1.plot(epochs, val_loss, label = 'Validation Loss')\n",
    "ax1.set(xlabel = \"Epochs\", ylabel = \"Loss\")\n",
    "ax1.legend()\n",
    "\n",
    "ax2.plot(epochs, root_mean_squared_error, label = \"Training Root Mean Squared Error\")\n",
    "ax2.plot(epochs, val_root_mean_squared_error, label = \"Validation Root Mean Squared Error\")\n",
    "ax2.set(xlabel = \"Epochs\", ylabel = \"Loss\")\n",
    "ax2.legend()\n",
    "\n",
    "plt.show()"
   ]
  },
  {
   "cell_type": "code",
   "execution_count": null,
   "id": "c4d5dba8-9ad1-4cdd-86de-316710aa490f",
   "metadata": {
    "colab": {
     "base_uri": "https://localhost:8080/"
    },
    "id": "c4d5dba8-9ad1-4cdd-86de-316710aa490f",
    "outputId": "9baea017-5282-4fe2-f892-3de7adaf25f8"
   },
   "outputs": [],
   "source": [
    "prediction = model.predict(x_test)"
   ]
  },
  {
   "cell_type": "code",
   "execution_count": null,
   "id": "f297f6bb-d552-4e80-ad03-62d353f0cf94",
   "metadata": {
    "id": "f297f6bb-d552-4e80-ad03-62d353f0cf94"
   },
   "outputs": [],
   "source": [
    "scaled_pred=min_max.inverse_transform(prediction)\n",
    "scaled_y_test=min_max.inverse_transform(y_test.reshape(-1,1))"
   ]
  },
  {
   "cell_type": "code",
   "execution_count": null,
   "id": "aeed551c-4ec7-4b30-adce-bb39b29c8bb7",
   "metadata": {
    "colab": {
     "base_uri": "https://localhost:8080/"
    },
    "id": "aeed551c-4ec7-4b30-adce-bb39b29c8bb7",
    "outputId": "e38e78f7-40b2-4b5c-a619-4a29bca6e138"
   },
   "outputs": [],
   "source": [
    "\n",
    "y_test.reshape(-1,1).shape"
   ]
  },
  {
   "cell_type": "code",
   "execution_count": null,
   "id": "c164c092-be69-413d-b18f-e125709d2ffc",
   "metadata": {
    "colab": {
     "base_uri": "https://localhost:8080/",
     "height": 275
    },
    "id": "c164c092-be69-413d-b18f-e125709d2ffc",
    "outputId": "320be6b1-cabf-45c7-d6d3-210068e145ae"
   },
   "outputs": [],
   "source": [
    "plt.figure(figsize=(20, 5))\n",
    "# plt.plot(training_data.index, training_data, label = 'Training')\n",
    "plt.plot(validation_data.index[:160], validation_data[:160],label = 'Validation')\n",
    "plt.plot(validation_data.index[160:],validation_data[160:],label = 'Testing Ground Truth')\n",
    "# plt.plot(validation_data.index[170:], scaled_y_test,label = 'Testing Ground Truth')\n",
    "plt.plot(validation_data.index[170:],scaled_pred, label = 'Predictions')\n",
    "plt.xlabel('Time')\n",
    "plt.ylabel('Closing Price')\n",
    "plt.legend(loc = 'best')"
   ]
  },
  {
   "cell_type": "code",
   "execution_count": null,
   "id": "ae91b5de-74e0-4d60-a7e2-cfc3ac5248e6",
   "metadata": {
    "colab": {
     "base_uri": "https://localhost:8080/",
     "height": 275
    },
    "id": "ae91b5de-74e0-4d60-a7e2-cfc3ac5248e6",
    "outputId": "8db52149-d675-41fe-bd4a-e65b4f029818"
   },
   "outputs": [],
   "source": [
    "plt.figure(figsize=(20, 5))\n",
    "plt.plot(training_data.index, training_data, label = 'Training')\n",
    "plt.plot(validation_data.index[:160], validation_data[:160],label = 'Validation')\n",
    "plt.plot(validation_data.index[160:],validation_data[160:],label = 'Testing Ground Truth')\n",
    "# plt.plot(validation_data.index[170:], min_max.inverse_transform(y_test.reshape(-1,1)),label = 'Testing Ground Truth')\n",
    "plt.plot(validation_data.index[170:],scaled_pred, label = 'Predictions')\n",
    "plt.xlabel('Time')\n",
    "plt.ylabel('Closing Price')\n",
    "plt.legend(loc = 'best')"
   ]
  },
  {
   "cell_type": "code",
   "execution_count": null,
   "id": "47cfa6a1-43f5-4d9e-b6e7-2386ee5c06c3",
   "metadata": {
    "colab": {
     "base_uri": "https://localhost:8080/"
    },
    "id": "47cfa6a1-43f5-4d9e-b6e7-2386ee5c06c3",
    "outputId": "3bc3765e-766e-4800-d720-eb42ab862eae"
   },
   "outputs": [],
   "source": [
    "rmse = math.sqrt(mean_squared_error(scaled_y_test,scaled_pred))\n",
    "mape = np.mean(np.abs(scaled_pred - scaled_y_test)/np.abs(scaled_y_test))\n",
    "print(f'RMSE: {rmse}')\n",
    "print(f'MAPE: {mape*100}')\n",
    "from sklearn.metrics import r2_score\n",
    "r2 = r2_score(scaled_y_test, scaled_pred)\n",
    "print(f\"R² score: {r2:.4f}\")\n"
   ]
  }
 ],
 "metadata": {
  "colab": {
   "provenance": []
  },
  "kernelspec": {
   "display_name": "Python 3 (ipykernel)",
   "language": "python",
   "name": "python3"
  },
  "language_info": {
   "codemirror_mode": {
    "name": "ipython",
    "version": 3
   },
   "file_extension": ".py",
   "mimetype": "text/x-python",
   "name": "python",
   "nbconvert_exporter": "python",
   "pygments_lexer": "ipython3",
   "version": "3.12.7"
  }
 },
 "nbformat": 4,
 "nbformat_minor": 5
}
